{
 "cells": [
  {
   "cell_type": "code",
   "execution_count": 27,
   "metadata": {},
   "outputs": [
    {
     "name": "stdout",
     "output_type": "stream",
     "text": [
      "abcdabcdefjhi\n",
      "abcdabcdefjhi\n"
     ]
    }
   ],
   "source": [
    "string=str(input())\n",
    "longest_unique=string[0]\n",
    "unique=''\n",
    "for i in string[0:]:\n",
    "    \n",
    "        \n",
    "    if i!=longest_unique[-1]: #and i not in longest_unique :\n",
    "        longest_unique+=str(i)\n",
    "\n",
    "            \n",
    "    else:\n",
    "        longest_unique+=' '+str(i)    \n",
    "            \n",
    "    s=max(longest_unique.split(), key=len)\n",
    "\n",
    "    if (len(set(s))==len(s)):\n",
    "        if(len(unique)<len(s)):\n",
    "            unique=s\n",
    "        \n",
    "        \n",
    "print(unique)"
   ]
  },
  {
   "cell_type": "code",
   "execution_count": 26,
   "metadata": {},
   "outputs": [
    {
     "name": "stdout",
     "output_type": "stream",
     "text": [
      "abcdabcdefjhi\n",
      "ab\n",
      "abc\n",
      "abcd\n",
      "abcde\n",
      "abcdef\n",
      "abcdefj\n",
      "abcdefjh\n",
      "abcdefjhi\n",
      "abcdefjhi\n"
     ]
    }
   ],
   "source": [
    "string=input()\n",
    "length=len(string)\n",
    "unique=''\n",
    "for i in range(length):\n",
    "    substring=string[i]\n",
    "    for j in range(i+1,length):\n",
    "        substring+=string[j]\n",
    "       # print(substring,end=' ')\n",
    "        sub_length=len(substring)\n",
    "        if(len(set(substring))==sub_length):\n",
    "            if(len(unique)<sub_length):\n",
    "                unique=substring\n",
    "if(len(unique)==0):\n",
    "    print('-1')\n",
    "else:\n",
    "    print(unique)"
   ]
  },
  {
   "cell_type": "code",
   "execution_count": 10,
   "metadata": {},
   "outputs": [
    {
     "data": {
      "text/plain": [
       "1010"
      ]
     },
     "execution_count": 10,
     "metadata": {},
     "output_type": "execute_result"
    }
   ],
   "source": [
    "10100//10"
   ]
  },
  {
   "cell_type": "code",
   "execution_count": null,
   "metadata": {},
   "outputs": [],
   "source": []
  }
 ],
 "metadata": {
  "kernelspec": {
   "display_name": "Python 3",
   "language": "python",
   "name": "python3"
  },
  "language_info": {
   "codemirror_mode": {
    "name": "ipython",
    "version": 3
   },
   "file_extension": ".py",
   "mimetype": "text/x-python",
   "name": "python",
   "nbconvert_exporter": "python",
   "pygments_lexer": "ipython3",
   "version": "3.8.5"
  }
 },
 "nbformat": 4,
 "nbformat_minor": 4
}
