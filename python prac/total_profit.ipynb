{
 "cells": [
  {
   "cell_type": "code",
   "execution_count": 1,
   "metadata": {},
   "outputs": [
    {
     "ename": "NameError",
     "evalue": "name 'profit' is not defined",
     "output_type": "error",
     "traceback": [
      "\u001b[1;31m---------------------------------------------------------------------------\u001b[0m",
      "\u001b[1;31mNameError\u001b[0m                                 Traceback (most recent call last)",
      "\u001b[1;32m<ipython-input-1-27b7f8665cde>\u001b[0m in \u001b[0;36m<module>\u001b[1;34m\u001b[0m\n\u001b[1;32m----> 1\u001b[1;33m profit({\n\u001b[0m\u001b[0;32m      2\u001b[0m   \u001b[1;34m\"cost_price\"\u001b[0m\u001b[1;33m:\u001b[0m \u001b[1;36m32.67\u001b[0m\u001b[1;33m,\u001b[0m\u001b[1;33m\u001b[0m\u001b[1;33m\u001b[0m\u001b[0m\n\u001b[0;32m      3\u001b[0m   \u001b[1;34m\"sell_price\"\u001b[0m\u001b[1;33m:\u001b[0m \u001b[1;36m45.00\u001b[0m\u001b[1;33m,\u001b[0m\u001b[1;33m\u001b[0m\u001b[1;33m\u001b[0m\u001b[0m\n\u001b[0;32m      4\u001b[0m   \u001b[1;34m\"inventory\"\u001b[0m\u001b[1;33m:\u001b[0m \u001b[1;36m1200\u001b[0m\u001b[1;33m\u001b[0m\u001b[1;33m\u001b[0m\u001b[0m\n\u001b[0;32m      5\u001b[0m })\n",
      "\u001b[1;31mNameError\u001b[0m: name 'profit' is not defined"
     ]
    }
   ],
   "source": [
    "profit({\n",
    "  \"cost_price\": 32.67,\n",
    "  \"sell_price\": 45.00,\n",
    "  \"inventory\": 1200\n",
    "})"
   ]
  },
  {
   "cell_type": "code",
   "execution_count": 3,
   "metadata": {},
   "outputs": [
    {
     "data": {
      "text/plain": [
       "14796"
      ]
     },
     "execution_count": 3,
     "metadata": {},
     "output_type": "execute_result"
    }
   ],
   "source": [
    "def profit(info):\n",
    "    cost_pr=info['cost_price']\n",
    "    sell_pr=info['sell_price']\n",
    "    inv=info['inventory']\n",
    "    total_profit=(sell_pr-cost_pr)*inv\n",
    "    return round(total_profit)\n",
    "profit({\n",
    "  \"cost_price\": 32.67,\n",
    "  \"sell_price\": 45.00,\n",
    "  \"inventory\": 1200\n",
    "})"
   ]
  },
  {
   "cell_type": "code",
   "execution_count": null,
   "metadata": {},
   "outputs": [],
   "source": []
  }
 ],
 "metadata": {
  "kernelspec": {
   "display_name": "Python 3",
   "language": "python",
   "name": "python3"
  },
  "language_info": {
   "codemirror_mode": {
    "name": "ipython",
    "version": 3
   },
   "file_extension": ".py",
   "mimetype": "text/x-python",
   "name": "python",
   "nbconvert_exporter": "python",
   "pygments_lexer": "ipython3",
   "version": "3.8.5"
  }
 },
 "nbformat": 4,
 "nbformat_minor": 4
}
