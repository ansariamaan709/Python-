{
 "cells": [
  {
   "cell_type": "code",
   "execution_count": 9,
   "metadata": {},
   "outputs": [
    {
     "name": "stdout",
     "output_type": "stream",
     "text": [
      "1\n",
      "3\n"
     ]
    }
   ],
   "source": [
    "l=[4,3,1,1,1]#1\n",
    "left=0 #w #3\n",
    "value=0 #q\n",
    "count_taxi=0 #r #2\n",
    "length=len(l)#m\n",
    "print(l[length-1])\n",
    "while(left<=length-1):\n",
    "    value=l[left] #2\n",
    "    while(value<4 and length-1!=left):\n",
    "        \n",
    "        value+=l[length-1] #3\n",
    "        if(value<=4):\n",
    "            length-=1\n",
    "    count_taxi+=1\n",
    "    left+=1\n",
    "print(count_taxi)\n",
    "        \n",
    "    \n"
   ]
  },
  {
   "cell_type": "code",
   "execution_count": null,
   "metadata": {},
   "outputs": [],
   "source": [
    "def find(n):\n",
    "    if diff in n:\n",
    "        return diff\n",
    "    else:\n",
    "        return 0\n",
    "find(n)\n",
    "def end(n):\n",
    "    for i in n:\n",
    "        return n[i][-1]\n",
    "n=[[1,2],[2]]\n",
    "end(n)\n",
    "def lingest_fibo(n):\n",
    "    length=len(n)\n",
    "    if n<=2:\n",
    "        return 2\n",
    "    dp=[][]\n",
    "    max_len=2\n",
    "    for i in range(n):\n",
    "        for j in range(i+1,n):\n",
    "            diff=n[j]-n[i]\n",
    "            if (dp[i].find(diff)!=dp[i]) \n",
    "        "
   ]
  },
  {
   "cell_type": "code",
   "execution_count": 5,
   "metadata": {},
   "outputs": [
    {
     "name": "stdout",
     "output_type": "stream",
     "text": [
      "2\n",
      "[0, 0]\n"
     ]
    }
   ],
   "source": [
    "n=int(input())\n",
    "dp=[0]*n\n",
    "print(dp)"
   ]
  },
  {
   "cell_type": "code",
   "execution_count": 19,
   "metadata": {},
   "outputs": [
    {
     "data": {
      "text/plain": [
       "3"
      ]
     },
     "execution_count": 19,
     "metadata": {},
     "output_type": "execute_result"
    }
   ],
   "source": [
    "def find(n):\n",
    "    if i in n:\n",
    "        return i\n",
    "    else:\n",
    "        return 0\n",
    "n=[1,2,3]\n",
    "i=3\n",
    "find(n)\n",
    "    \n",
    "    "
   ]
  },
  {
   "cell_type": "code",
   "execution_count": 36,
   "metadata": {},
   "outputs": [
    {
     "data": {
      "text/plain": [
       "3"
      ]
     },
     "execution_count": 36,
     "metadata": {},
     "output_type": "execute_result"
    }
   ],
   "source": [
    "def end(n):\n",
    "    for i in n:\n",
    "        return i[-1]\n",
    "        for j in n[i+1:]:\n",
    "            return j[-1]\n",
    "n=[[1,3],[2,4]]\n",
    "end(n)"
   ]
  },
  {
   "cell_type": "code",
   "execution_count": 8,
   "metadata": {},
   "outputs": [
    {
     "name": "stdout",
     "output_type": "stream",
     "text": [
      "3\n"
     ]
    }
   ],
   "source": [
    "l=[1,2,3]\n",
    "length=len(l)\n",
    "print(l[length-1])"
   ]
  },
  {
   "cell_type": "code",
   "execution_count": 11,
   "metadata": {},
   "outputs": [
    {
     "data": {
      "text/plain": [
       "100000000000000000000000000000000000000000000000000"
      ]
     },
     "execution_count": 11,
     "metadata": {},
     "output_type": "execute_result"
    }
   ],
   "source": [
    "10**50"
   ]
  },
  {
   "cell_type": "code",
   "execution_count": null,
   "metadata": {},
   "outputs": [],
   "source": []
  }
 ],
 "metadata": {
  "kernelspec": {
   "display_name": "Python 3",
   "language": "python",
   "name": "python3"
  },
  "language_info": {
   "codemirror_mode": {
    "name": "ipython",
    "version": 3
   },
   "file_extension": ".py",
   "mimetype": "text/x-python",
   "name": "python",
   "nbconvert_exporter": "python",
   "pygments_lexer": "ipython3",
   "version": "3.8.5"
  }
 },
 "nbformat": 4,
 "nbformat_minor": 4
}
