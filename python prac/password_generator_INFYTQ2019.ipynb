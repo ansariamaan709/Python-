{
 "cells": [
  {
   "cell_type": "code",
   "execution_count": null,
   "metadata": {},
   "outputs": [],
   "source": [
    "input_string=input()\n",
    "list_input=[]\n",
    "final_str=''\n",
    "list_input=input_string.split(',')\n",
    "\n",
    "print(list_input)\n",
    "for i in list_input:\n",
    "    temp=i.split(':')\n",
    "    #print(temp)\n",
    "    name=temp[0]\n",
    "    number=temp[1]\n",
    "    length=len(name)\n",
    "    max=0\n",
    "    for digit in number:\n",
    "        if(int(digit)<=length):\n",
    "            if(max<len(digit)):\n",
    "                max=int(digit)\n",
    "    if max==0:\n",
    "        final_str += 'X'\n",
    "    else:\n",
    "        final_str +=name[max-1]\n",
    "print(final_str)"
   ]
  },
  {
   "cell_type": "code",
   "execution_count": null,
   "metadata": {},
   "outputs": [],
   "source": []
  },
  {
   "cell_type": "code",
   "execution_count": null,
   "metadata": {},
   "outputs": [],
   "source": []
  },
  {
   "cell_type": "code",
   "execution_count": null,
   "metadata": {},
   "outputs": [],
   "source": []
  },
  {
   "cell_type": "code",
   "execution_count": null,
   "metadata": {},
   "outputs": [],
   "source": []
  }
 ],
 "metadata": {
  "kernelspec": {
   "display_name": "Python 3",
   "language": "python",
   "name": "python3"
  },
  "language_info": {
   "codemirror_mode": {
    "name": "ipython",
    "version": 3
   },
   "file_extension": ".py",
   "mimetype": "text/x-python",
   "name": "python",
   "nbconvert_exporter": "python",
   "pygments_lexer": "ipython3",
   "version": "3.8.5"
  }
 },
 "nbformat": 4,
 "nbformat_minor": 4
}
