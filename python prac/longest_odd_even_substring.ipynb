{
 "cells": [
  {
   "cell_type": "code",
   "execution_count": 9,
   "metadata": {},
   "outputs": [
    {
     "data": {
      "text/plain": [
       "False"
      ]
     },
     "execution_count": 9,
     "metadata": {},
     "output_type": "execute_result"
    }
   ],
   "source": [
    "def even(num):\n",
    "    for i in range(num):\n",
    "        if num%2==0:\n",
    "            return True\n",
    "        else:\n",
    "            return False\n",
    "even(6)\n",
    "\n",
    "def odd(num1):\n",
    "    for i in range(num1):\n",
    "        if num1%2==0:\n",
    "            return False\n",
    "        else:\n",
    "            return True\n",
    "odd(6)\n",
    "\n",
    "\n",
    "\n",
    "\n",
    "#def substring(digits):\n",
    "    "
   ]
  },
  {
   "cell_type": "code",
   "execution_count": 32,
   "metadata": {},
   "outputs": [
    {
     "data": {
      "text/plain": [
       "True"
      ]
     },
     "execution_count": 32,
     "metadata": {},
     "output_type": "execute_result"
    }
   ],
   "source": [
    "\n",
    "def substring(digits):\n",
    "    for i in range(digits):\n",
    "        if i==digits%2 and i+1 !=digits%2:\n",
    "            return True\n",
    "        elif i!=digits%2 and i+1==digits%2:\n",
    "            return True\n",
    "        else:\n",
    "            return False\n",
    "substring(1111)\n",
    "\n"
   ]
  },
  {
   "cell_type": "code",
   "execution_count": 130,
   "metadata": {},
   "outputs": [
    {
     "name": "stdout",
     "output_type": "stream",
     "text": [
      "[1, 2, 3, 4]\n"
     ]
    },
    {
     "data": {
      "text/plain": [
       "False"
      ]
     },
     "execution_count": 130,
     "metadata": {},
     "output_type": "execute_result"
    }
   ],
   "source": [
    "\n",
    "def substring(digits):\n",
    "    l=list(map(int,str(digits)))\n",
    "    print(l)\n",
    "    for i in l:\n",
    "        y=i+1\n",
    "        if i==l[i]%2 and y!=l[y]%2:\n",
    "            return True\n",
    "        elif i!=l[i]%2 and y==l[y]%2:\n",
    "            return True\n",
    "        else:\n",
    "            return False\n",
    "substring(1234)"
   ]
  },
  {
   "cell_type": "code",
   "execution_count": 172,
   "metadata": {},
   "outputs": [
    {
     "name": "stdout",
     "output_type": "stream",
     "text": [
      "8\n"
     ]
    },
    {
     "data": {
      "text/plain": [
       "('122222', ' 3 4')"
      ]
     },
     "execution_count": 172,
     "metadata": {},
     "output_type": "execute_result"
    }
   ],
   "source": [
    "def alter(ls):\n",
    "    res=ls[0]\n",
    "    res1=''\n",
    "    ls=list(map(int,str(ls)))\n",
    "    print(len(ls))\n",
    "    for i in ls[1:len(ls)+1]:\n",
    "        \n",
    "        \n",
    "        if ls[i]%2 != ls[i+1]%2:\n",
    "            res+=str(i)\n",
    "            continue\n",
    "        else:\n",
    "            res1+=' '+str(i)\n",
    "            continue\n",
    "    return res,res1\n",
    "alter(\"12342222\")"
   ]
  },
  {
   "cell_type": "code",
   "execution_count": 15,
   "metadata": {},
   "outputs": [
    {
     "data": {
      "text/plain": [
       "'2123456'"
      ]
     },
     "execution_count": 15,
     "metadata": {},
     "output_type": "execute_result"
    }
   ],
   "source": [
    "def longest_substring(digits):\n",
    "    res = digits[0]\n",
    "    for i in digits[1:]:\n",
    "        \n",
    "        if int(i)%2 != int(res[-1])%2: #1st loop int(i)%2= 2%2 != res[-1]=1 #condition is true  \n",
    "           \n",
    "            res += i\n",
    "        else:\n",
    "            res += ' ' + i\n",
    "    return max(res.split(), key=len)\n",
    "longest_substring(\"123422222123456\")"
   ]
  },
  {
   "cell_type": "code",
   "execution_count": 191,
   "metadata": {},
   "outputs": [
    {
     "data": {
      "text/plain": [
       "'112'"
      ]
     },
     "execution_count": 191,
     "metadata": {},
     "output_type": "execute_result"
    }
   ],
   "source": [
    "def alter(ls):\n",
    "    res=str(ls[0])\n",
    "    for i in range(1,len(ls)-1):\n",
    "        if i%2 != i+1%2:\n",
    "            res+=str(i)\n",
    "    return res\n",
    "alter([1,2,3,4])"
   ]
  },
  {
   "cell_type": "code",
   "execution_count": 3,
   "metadata": {},
   "outputs": [
    {
     "name": "stdout",
     "output_type": "stream",
     "text": [
      "abbcdafeegh\n",
      "bcdafe\n"
     ]
    }
   ],
   "source": [
    "string=input()\n",
    "longest_unique=string[0]\n",
    "for i in string:\n",
    "    if i!=longest_unique[-1]:\n",
    "        longest_unique+=i\n",
    "    else:\n",
    "        longest_unique+=' '+i\n",
    "    s=max(longest_unique.split(), key=len)\n",
    "print(s)\n",
    "    "
   ]
  },
  {
   "cell_type": "code",
   "execution_count": 38,
   "metadata": {},
   "outputs": [
    {
     "name": "stdout",
     "output_type": "stream",
     "text": [
      "4\n",
      "1\n",
      "1\n",
      "2\n",
      "2\n",
      "4\n"
     ]
    },
    {
     "ename": "IndexError",
     "evalue": "list index out of range",
     "output_type": "error",
     "traceback": [
      "\u001b[1;31m---------------------------------------------------------------------------\u001b[0m",
      "\u001b[1;31mIndexError\u001b[0m                                Traceback (most recent call last)",
      "\u001b[1;32m<ipython-input-38-b6b6d8a6d0da>\u001b[0m in \u001b[0;36m<module>\u001b[1;34m\u001b[0m\n\u001b[0;32m     40\u001b[0m     \u001b[0mprint\u001b[0m \u001b[1;33m(\u001b[0m\u001b[0mresult\u001b[0m\u001b[1;33m)\u001b[0m\u001b[1;33m\u001b[0m\u001b[1;33m\u001b[0m\u001b[0m\n\u001b[0;32m     41\u001b[0m \u001b[1;32mif\u001b[0m \u001b[0m__name__\u001b[0m \u001b[1;33m==\u001b[0m \u001b[1;34m\"__main__\"\u001b[0m\u001b[1;33m:\u001b[0m\u001b[1;33m\u001b[0m\u001b[1;33m\u001b[0m\u001b[0m\n\u001b[1;32m---> 42\u001b[1;33m     \u001b[0mmain\u001b[0m\u001b[1;33m(\u001b[0m\u001b[1;33m)\u001b[0m\u001b[1;33m\u001b[0m\u001b[1;33m\u001b[0m\u001b[0m\n\u001b[0m",
      "\u001b[1;32m<ipython-input-38-b6b6d8a6d0da>\u001b[0m in \u001b[0;36mmain\u001b[1;34m()\u001b[0m\n\u001b[0;32m     37\u001b[0m \u001b[1;33m\u001b[0m\u001b[0m\n\u001b[0;32m     38\u001b[0m     \u001b[0mX\u001b[0m \u001b[1;33m=\u001b[0m \u001b[0mint\u001b[0m\u001b[1;33m(\u001b[0m\u001b[0minput\u001b[0m\u001b[1;33m(\u001b[0m\u001b[1;33m)\u001b[0m\u001b[1;33m)\u001b[0m\u001b[1;33m\u001b[0m\u001b[1;33m\u001b[0m\u001b[0m\n\u001b[1;32m---> 39\u001b[1;33m     \u001b[0mresult\u001b[0m \u001b[1;33m=\u001b[0m \u001b[0mminimumWithdrawal\u001b[0m\u001b[1;33m(\u001b[0m\u001b[0mATM\u001b[0m\u001b[1;33m,\u001b[0m\u001b[0mX\u001b[0m\u001b[1;33m)\u001b[0m\u001b[1;33m;\u001b[0m\u001b[1;33m\u001b[0m\u001b[1;33m\u001b[0m\u001b[0m\n\u001b[0m\u001b[0;32m     40\u001b[0m     \u001b[0mprint\u001b[0m \u001b[1;33m(\u001b[0m\u001b[0mresult\u001b[0m\u001b[1;33m)\u001b[0m\u001b[1;33m\u001b[0m\u001b[1;33m\u001b[0m\u001b[0m\n\u001b[0;32m     41\u001b[0m \u001b[1;32mif\u001b[0m \u001b[0m__name__\u001b[0m \u001b[1;33m==\u001b[0m \u001b[1;34m\"__main__\"\u001b[0m\u001b[1;33m:\u001b[0m\u001b[1;33m\u001b[0m\u001b[1;33m\u001b[0m\u001b[0m\n",
      "\u001b[1;32m<ipython-input-38-b6b6d8a6d0da>\u001b[0m in \u001b[0;36mminimumWithdrawal\u001b[1;34m(ATM, X)\u001b[0m\n\u001b[0;32m     15\u001b[0m         \u001b[1;32melse\u001b[0m\u001b[1;33m:\u001b[0m\u001b[1;33m\u001b[0m\u001b[1;33m\u001b[0m\u001b[0m\n\u001b[0;32m     16\u001b[0m             \u001b[1;32mfor\u001b[0m \u001b[0mi\u001b[0m \u001b[1;32min\u001b[0m \u001b[0mrange\u001b[0m\u001b[1;33m(\u001b[0m\u001b[0mlen\u001b[0m\u001b[1;33m(\u001b[0m\u001b[0mATM\u001b[0m\u001b[1;33m)\u001b[0m\u001b[1;33m,\u001b[0m\u001b[0mhalf\u001b[0m\u001b[1;33m-\u001b[0m\u001b[1;36m2\u001b[0m\u001b[1;33m,\u001b[0m\u001b[1;33m-\u001b[0m\u001b[1;36m1\u001b[0m\u001b[1;33m)\u001b[0m\u001b[1;33m:\u001b[0m\u001b[1;33m\u001b[0m\u001b[1;33m\u001b[0m\u001b[0m\n\u001b[1;32m---> 17\u001b[1;33m                 \u001b[1;32mif\u001b[0m \u001b[1;33m(\u001b[0m\u001b[0ml1\u001b[0m\u001b[1;33m[\u001b[0m\u001b[0mi\u001b[0m\u001b[1;33m]\u001b[0m\u001b[1;33m+\u001b[0m\u001b[0ml1\u001b[0m\u001b[1;33m[\u001b[0m\u001b[0mi\u001b[0m\u001b[1;33m-\u001b[0m\u001b[1;36m1\u001b[0m\u001b[1;33m]\u001b[0m\u001b[1;33m==\u001b[0m\u001b[0mX\u001b[0m\u001b[1;33m)\u001b[0m\u001b[1;33m:\u001b[0m\u001b[1;33m\u001b[0m\u001b[1;33m\u001b[0m\u001b[0m\n\u001b[0m\u001b[0;32m     18\u001b[0m                     \u001b[0mcount\u001b[0m\u001b[1;33m+=\u001b[0m\u001b[1;36m1\u001b[0m\u001b[1;33m\u001b[0m\u001b[1;33m\u001b[0m\u001b[0m\n\u001b[0;32m     19\u001b[0m                 \u001b[1;32melse\u001b[0m\u001b[1;33m:\u001b[0m\u001b[1;33m\u001b[0m\u001b[1;33m\u001b[0m\u001b[0m\n",
      "\u001b[1;31mIndexError\u001b[0m: list index out of range"
     ]
    }
   ],
   "source": [
    "def minimumWithdrawal(ATM,X):\n",
    "    half=len(ATM)//2\n",
    "    l=ATM[0:half]\n",
    "    l1=ATM[half:len(ATM)]\n",
    "    count=0\n",
    "    for i in range(0,half-1):\n",
    "        if sum(l)>=X:\n",
    "            if(l[i]+l[i+1]==X) :\n",
    "                \n",
    "                count+=1\n",
    "                break\n",
    "            else:\n",
    "                count+=1\n",
    "            \n",
    "        else:\n",
    "            for i in range(len(ATM),half-2,-1):\n",
    "                if (l1[i]+l1[i-1]==X):\n",
    "                    count+=1\n",
    "                else:\n",
    "                    count+=1\n",
    "    if sum(ATM)<X:\n",
    "        return -1\n",
    "    else:\n",
    "        \n",
    "        return count\n",
    "        \n",
    "    # Write your code here\n",
    "\n",
    "\n",
    "def main():\n",
    "\n",
    "    N = int(input())\n",
    "    ATM=[None]*N\n",
    "    for j in range(N):\n",
    "        ATM[j] = int(input())\n",
    "    \n",
    "\n",
    "    X = int(input())\n",
    "    result = minimumWithdrawal(ATM,X);\n",
    "    print (result)\n",
    "if __name__ == \"__main__\":\n",
    "    main()"
   ]
  },
  {
   "cell_type": "code",
   "execution_count": 48,
   "metadata": {},
   "outputs": [
    {
     "name": "stdout",
     "output_type": "stream",
     "text": [
      "99\n",
      "10\n"
     ]
    }
   ],
   "source": [
    "def beautifulFunction(N):\n",
    "    __sum = 0\n",
    "    while(N > 9):\n",
    "        last_digit = N % 10\n",
    "        __sum += 10 - last_digit\n",
    "        N //= 10\n",
    "        N += 1\n",
    "        while(N % 10 == 0):\n",
    "            N //= 10\n",
    "            \n",
    "    return __sum + 9\n",
    "\n",
    "\n",
    "\n",
    "N = int(input())\n",
    "result = beautifulFunction(N);\n",
    "print(result)\n",
    "\n"
   ]
  },
  {
   "cell_type": "code",
   "execution_count": 54,
   "metadata": {},
   "outputs": [
    {
     "data": {
      "text/plain": [
       "4"
      ]
     },
     "execution_count": 54,
     "metadata": {},
     "output_type": "execute_result"
    }
   ],
   "source": [
    "580%9"
   ]
  },
  {
   "cell_type": "code",
   "execution_count": null,
   "metadata": {},
   "outputs": [],
   "source": []
  }
 ],
 "metadata": {
  "kernelspec": {
   "display_name": "Python 3",
   "language": "python",
   "name": "python3"
  },
  "language_info": {
   "codemirror_mode": {
    "name": "ipython",
    "version": 3
   },
   "file_extension": ".py",
   "mimetype": "text/x-python",
   "name": "python",
   "nbconvert_exporter": "python",
   "pygments_lexer": "ipython3",
   "version": "3.8.5"
  }
 },
 "nbformat": 4,
 "nbformat_minor": 4
}
