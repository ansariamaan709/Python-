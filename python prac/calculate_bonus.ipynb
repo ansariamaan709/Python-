{
 "cells": [
  {
   "cell_type": "code",
   "execution_count": 1,
   "metadata": {},
   "outputs": [
    {
     "data": {
      "text/plain": [
       "5350"
      ]
     },
     "execution_count": 1,
     "metadata": {},
     "output_type": "execute_result"
    }
   ],
   "source": [
    "def bonus(days):\n",
    "    total = 0\n",
    "    for i in range(1, days+1):\n",
    "        if 32 < i <= 40:\n",
    "            total += 325\n",
    "        if 40 < i <= 48:\n",
    "            total += 550\n",
    "        if i > 48:\n",
    "            total += 600\n",
    "    return total\n",
    "bonus(45)    \n"
   ]
  },
  {
   "cell_type": "code",
   "execution_count": null,
   "metadata": {},
   "outputs": [],
   "source": [
    "#problem\n",
    "0 to 32 days\tZero\n",
    "33 to 40 days\tSGD$325 per billable day\n",
    "41 to 48 days\tSGD$550 per billable day\n",
    "Greater than 48 days\tSGD$600 per billable day\n"
   ]
  }
 ],
 "metadata": {
  "kernelspec": {
   "display_name": "Python 3",
   "language": "python",
   "name": "python3"
  },
  "language_info": {
   "codemirror_mode": {
    "name": "ipython",
    "version": 3
   },
   "file_extension": ".py",
   "mimetype": "text/x-python",
   "name": "python",
   "nbconvert_exporter": "python",
   "pygments_lexer": "ipython3",
   "version": "3.8.5"
  }
 },
 "nbformat": 4,
 "nbformat_minor": 4
}
