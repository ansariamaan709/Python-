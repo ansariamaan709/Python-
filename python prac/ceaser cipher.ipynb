{
 "cells": [
  {
   "cell_type": "code",
   "execution_count": 1,
   "metadata": {},
   "outputs": [
    {
     "name": "stdout",
     "output_type": "stream",
     "text": [
      "25\n",
      "zlzzm\n"
     ]
    }
   ],
   "source": [
    "string='amaan'\n",
    "s=int(input())\n",
    "encrypted_text=''\n",
    "temp=''\n",
    "for i in range(len(string)):\n",
    "    temp=string[i]\n",
    "    if temp.isupper():\n",
    "        encrypted_text+=chr((ord(temp)+s-65)%26+65)\n",
    "    else:\n",
    "        encrypted_text+=chr((ord(temp)+s-97)%26+97)\n",
    "print(encrypted_text)\n",
    "    "
   ]
  },
  {
   "cell_type": "code",
   "execution_count": 3,
   "metadata": {},
   "outputs": [
    {
     "name": "stdout",
     "output_type": "stream",
     "text": [
      "2\n",
      "amaan\n"
     ]
    }
   ],
   "source": [
    "string='coccp'\n",
    "s=int(input())\n",
    "encrypted_text=''\n",
    "temp=''\n",
    "for i in range(len(string)):\n",
    "    temp=string[i]\n",
    "    if temp.isupper():\n",
    "        encrypted_text+=chr((ord(temp)-s-65)%26+65)\n",
    "    else:\n",
    "        encrypted_text+=chr((ord(temp)-s-97)%26+97)\n",
    "print(encrypted_text)"
   ]
  },
  {
   "cell_type": "code",
   "execution_count": null,
   "metadata": {},
   "outputs": [],
   "source": []
  }
 ],
 "metadata": {
  "kernelspec": {
   "display_name": "Python 3",
   "language": "python",
   "name": "python3"
  },
  "language_info": {
   "codemirror_mode": {
    "name": "ipython",
    "version": 3
   },
   "file_extension": ".py",
   "mimetype": "text/x-python",
   "name": "python",
   "nbconvert_exporter": "python",
   "pygments_lexer": "ipython3",
   "version": "3.8.5"
  }
 },
 "nbformat": 4,
 "nbformat_minor": 4
}
