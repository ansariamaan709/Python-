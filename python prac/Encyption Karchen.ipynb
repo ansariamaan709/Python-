{
 "cells": [
  {
   "cell_type": "code",
   "execution_count": 1,
   "metadata": {},
   "outputs": [
    {
     "name": "stdout",
     "output_type": "stream",
     "text": [
      "e\n",
      "1\n",
      "a\n",
      "0\n"
     ]
    },
    {
     "data": {
      "text/plain": [
       "'1lpp0aca'"
      ]
     },
     "execution_count": 1,
     "metadata": {},
     "output_type": "execute_result"
    }
   ],
   "source": [
    "s = 'apple'\n",
    "s1 = ''.join(reversed(s))\n",
    "\n",
    "# dictionary pairs \"X\" with \"-\"\n",
    "d = {\"a\":\"0\",\"e\":\"1\",\"i\":\"2\",\"o\":\"2\",\"u\":\"3\"}\n",
    "\n",
    "# define a functions that takes a string and a dict\n",
    "def find_replace(string, dictionary):\n",
    "    # is the item in the dict?\n",
    "    for item in string:\n",
    "        # iterate by keys\n",
    "        if item in dictionary.keys():\n",
    "            print(item)\n",
    "            print(dictionary[item])\n",
    "            # look up and replace\n",
    "            string = string.replace(item, dictionary[item])\n",
    "    # return updated string\n",
    "    return string+'aca'\n",
    "\n",
    "# call the funciton\n",
    "find_replace(s1,d)"
   ]
  },
  {
   "cell_type": "code",
   "execution_count": 11,
   "metadata": {},
   "outputs": [
    {
     "name": "stdout",
     "output_type": "stream",
     "text": [
      "0ppl1\n"
     ]
    }
   ],
   "source": [
    "s='apple'\n",
    "d = {\"a\":\"0\",\"e\":\"1\",\"i\":\"2\",\"o\":\"2\",\"u\":\"3\"}\n",
    "for item in s:\n",
    "    if item in d.keys():\n",
    "        s=s.replace(item,d[item])\n",
    "print(s)"
   ]
  },
  {
   "cell_type": "code",
   "execution_count": null,
   "metadata": {},
   "outputs": [],
   "source": []
  }
 ],
 "metadata": {
  "kernelspec": {
   "display_name": "Python 3",
   "language": "python",
   "name": "python3"
  },
  "language_info": {
   "codemirror_mode": {
    "name": "ipython",
    "version": 3
   },
   "file_extension": ".py",
   "mimetype": "text/x-python",
   "name": "python",
   "nbconvert_exporter": "python",
   "pygments_lexer": "ipython3",
   "version": "3.8.5"
  }
 },
 "nbformat": 4,
 "nbformat_minor": 4
}
