{
 "cells": [
  {
   "cell_type": "code",
   "execution_count": 1,
   "metadata": {},
   "outputs": [
    {
     "name": "stdout",
     "output_type": "stream",
     "text": [
      "Collecting jupyter_contrib_nbextensions\n",
      "  Downloading jupyter_contrib_nbextensions-0.5.1-py2.py3-none-any.whl (20.9 MB)\n",
      "Requirement already satisfied: traitlets>=4.1 in c:\\users\\amaan\\anaconda3\\lib\\site-packages (from jupyter_contrib_nbextensions) (5.0.5)\n",
      "Requirement already satisfied: ipython-genutils in c:\\users\\amaan\\anaconda3\\lib\\site-packages (from jupyter_contrib_nbextensions) (0.2.0)\n",
      "Requirement already satisfied: jupyter-core in c:\\users\\amaan\\anaconda3\\lib\\site-packages (from jupyter_contrib_nbextensions) (4.6.3)\n",
      "Collecting jupyter-latex-envs>=1.3.8\n",
      "  Downloading jupyter_latex_envs-1.4.6.tar.gz (861 kB)\n",
      "Requirement already satisfied: nbconvert>=4.2 in c:\\users\\amaan\\anaconda3\\lib\\site-packages (from jupyter_contrib_nbextensions) (6.0.7)\n",
      "Requirement already satisfied: tornado in c:\\users\\amaan\\anaconda3\\lib\\site-packages (from jupyter_contrib_nbextensions) (5.0)\n",
      "Collecting jupyter-nbextensions-configurator>=0.4.0\n",
      "  Downloading jupyter_nbextensions_configurator-0.4.1.tar.gz (479 kB)\n",
      "Requirement already satisfied: lxml in c:\\users\\amaan\\anaconda3\\lib\\site-packages (from jupyter_contrib_nbextensions) (4.6.1)\n",
      "Collecting jupyter-contrib-core>=0.3.3\n",
      "  Downloading jupyter_contrib_core-0.3.3-py2.py3-none-any.whl (18 kB)\n",
      "Requirement already satisfied: notebook>=4.0 in c:\\users\\amaan\\anaconda3\\lib\\site-packages (from jupyter_contrib_nbextensions) (6.1.4)\n",
      "Collecting jupyter-highlight-selected-word>=0.1.1\n",
      "  Downloading jupyter_highlight_selected_word-0.2.0-py2.py3-none-any.whl (11 kB)\n",
      "Requirement already satisfied: pyyaml in c:\\users\\amaan\\anaconda3\\lib\\site-packages (from jupyter_contrib_nbextensions) (5.3.1)\n",
      "Requirement already satisfied: pywin32>=1.0; sys_platform == \"win32\" in c:\\users\\amaan\\anaconda3\\lib\\site-packages (from jupyter-core->jupyter_contrib_nbextensions) (227)\n",
      "Requirement already satisfied: ipython in c:\\users\\amaan\\anaconda3\\lib\\site-packages (from jupyter-latex-envs>=1.3.8->jupyter_contrib_nbextensions) (7.19.0)\n",
      "Requirement already satisfied: pygments>=2.4.1 in c:\\users\\amaan\\anaconda3\\lib\\site-packages (from nbconvert>=4.2->jupyter_contrib_nbextensions) (2.7.2)\n",
      "Requirement already satisfied: mistune<2,>=0.8.1 in c:\\users\\amaan\\anaconda3\\lib\\site-packages (from nbconvert>=4.2->jupyter_contrib_nbextensions) (0.8.4)\n",
      "Requirement already satisfied: nbformat>=4.4 in c:\\users\\amaan\\anaconda3\\lib\\site-packages (from nbconvert>=4.2->jupyter_contrib_nbextensions) (5.0.8)\n",
      "Requirement already satisfied: bleach in c:\\users\\amaan\\anaconda3\\lib\\site-packages (from nbconvert>=4.2->jupyter_contrib_nbextensions) (3.2.1)\n",
      "Requirement already satisfied: jinja2>=2.4 in c:\\users\\amaan\\anaconda3\\lib\\site-packages (from nbconvert>=4.2->jupyter_contrib_nbextensions) (2.11.2)\n",
      "Requirement already satisfied: pandocfilters>=1.4.1 in c:\\users\\amaan\\anaconda3\\lib\\site-packages (from nbconvert>=4.2->jupyter_contrib_nbextensions) (1.4.3)\n",
      "Requirement already satisfied: defusedxml in c:\\users\\amaan\\anaconda3\\lib\\site-packages (from nbconvert>=4.2->jupyter_contrib_nbextensions) (0.6.0)\n",
      "Requirement already satisfied: jupyterlab-pygments in c:\\users\\amaan\\anaconda3\\lib\\site-packages (from nbconvert>=4.2->jupyter_contrib_nbextensions) (0.1.2)\n",
      "Requirement already satisfied: nbclient<0.6.0,>=0.5.0 in c:\\users\\amaan\\anaconda3\\lib\\site-packages (from nbconvert>=4.2->jupyter_contrib_nbextensions) (0.5.1)\n",
      "Requirement already satisfied: entrypoints>=0.2.2 in c:\\users\\amaan\\anaconda3\\lib\\site-packages (from nbconvert>=4.2->jupyter_contrib_nbextensions) (0.3)\n",
      "Requirement already satisfied: testpath in c:\\users\\amaan\\anaconda3\\lib\\site-packages (from nbconvert>=4.2->jupyter_contrib_nbextensions) (0.4.4)\n",
      "Requirement already satisfied: setuptools in c:\\users\\amaan\\anaconda3\\lib\\site-packages (from jupyter-contrib-core>=0.3.3->jupyter_contrib_nbextensions) (50.3.1.post20201107)\n",
      "Requirement already satisfied: pyzmq>=17 in c:\\users\\amaan\\anaconda3\\lib\\site-packages (from notebook>=4.0->jupyter_contrib_nbextensions) (19.0.2)\n",
      "Requirement already satisfied: jupyter-client>=5.3.4 in c:\\users\\amaan\\anaconda3\\lib\\site-packages (from notebook>=4.0->jupyter_contrib_nbextensions) (6.1.7)\n",
      "Requirement already satisfied: terminado>=0.8.3 in c:\\users\\amaan\\anaconda3\\lib\\site-packages (from notebook>=4.0->jupyter_contrib_nbextensions) (0.9.1)\n",
      "Requirement already satisfied: prometheus-client in c:\\users\\amaan\\anaconda3\\lib\\site-packages (from notebook>=4.0->jupyter_contrib_nbextensions) (0.8.0)\n",
      "Requirement already satisfied: argon2-cffi in c:\\users\\amaan\\anaconda3\\lib\\site-packages (from notebook>=4.0->jupyter_contrib_nbextensions) (20.1.0)\n",
      "Requirement already satisfied: ipykernel in c:\\users\\amaan\\anaconda3\\lib\\site-packages (from notebook>=4.0->jupyter_contrib_nbextensions) (5.3.4)\n",
      "Requirement already satisfied: Send2Trash in c:\\users\\amaan\\anaconda3\\lib\\site-packages (from notebook>=4.0->jupyter_contrib_nbextensions) (1.5.0)\n",
      "Requirement already satisfied: backcall in c:\\users\\amaan\\anaconda3\\lib\\site-packages (from ipython->jupyter-latex-envs>=1.3.8->jupyter_contrib_nbextensions) (0.2.0)\n",
      "Requirement already satisfied: jedi>=0.10 in c:\\users\\amaan\\anaconda3\\lib\\site-packages (from ipython->jupyter-latex-envs>=1.3.8->jupyter_contrib_nbextensions) (0.17.1)\n",
      "Requirement already satisfied: prompt-toolkit!=3.0.0,!=3.0.1,<3.1.0,>=2.0.0 in c:\\users\\amaan\\anaconda3\\lib\\site-packages (from ipython->jupyter-latex-envs>=1.3.8->jupyter_contrib_nbextensions) (3.0.8)\n",
      "Requirement already satisfied: colorama; sys_platform == \"win32\" in c:\\users\\amaan\\appdata\\roaming\\python\\python38\\site-packages (from ipython->jupyter-latex-envs>=1.3.8->jupyter_contrib_nbextensions) (0.4.3)\n",
      "Requirement already satisfied: decorator in c:\\users\\amaan\\anaconda3\\lib\\site-packages (from ipython->jupyter-latex-envs>=1.3.8->jupyter_contrib_nbextensions) (4.4.2)\n",
      "Requirement already satisfied: pickleshare in c:\\users\\amaan\\anaconda3\\lib\\site-packages (from ipython->jupyter-latex-envs>=1.3.8->jupyter_contrib_nbextensions) (0.7.5)\n",
      "Requirement already satisfied: jsonschema!=2.5.0,>=2.4 in c:\\users\\amaan\\anaconda3\\lib\\site-packages (from nbformat>=4.4->nbconvert>=4.2->jupyter_contrib_nbextensions) (3.2.0)\n",
      "Requirement already satisfied: six>=1.9.0 in c:\\users\\amaan\\anaconda3\\lib\\site-packages (from bleach->nbconvert>=4.2->jupyter_contrib_nbextensions) (1.12.0)\n",
      "Requirement already satisfied: webencodings in c:\\users\\amaan\\anaconda3\\lib\\site-packages (from bleach->nbconvert>=4.2->jupyter_contrib_nbextensions) (0.5.1)\n",
      "Requirement already satisfied: packaging in c:\\users\\amaan\\anaconda3\\lib\\site-packages (from bleach->nbconvert>=4.2->jupyter_contrib_nbextensions) (20.4)\n",
      "Requirement already satisfied: MarkupSafe>=0.23 in c:\\users\\amaan\\anaconda3\\lib\\site-packages (from jinja2>=2.4->nbconvert>=4.2->jupyter_contrib_nbextensions) (1.1.1)\n",
      "Requirement already satisfied: async-generator in c:\\users\\amaan\\anaconda3\\lib\\site-packages (from nbclient<0.6.0,>=0.5.0->nbconvert>=4.2->jupyter_contrib_nbextensions) (1.10)\n",
      "Requirement already satisfied: nest-asyncio in c:\\users\\amaan\\anaconda3\\lib\\site-packages (from nbclient<0.6.0,>=0.5.0->nbconvert>=4.2->jupyter_contrib_nbextensions) (1.4.2)\n",
      "Requirement already satisfied: python-dateutil>=2.1 in c:\\users\\amaan\\anaconda3\\lib\\site-packages (from jupyter-client>=5.3.4->notebook>=4.0->jupyter_contrib_nbextensions) (2.8.1)\n",
      "Requirement already satisfied: pywinpty>=0.5 in c:\\users\\amaan\\anaconda3\\lib\\site-packages (from terminado>=0.8.3->notebook>=4.0->jupyter_contrib_nbextensions) (0.5.7)\n",
      "Requirement already satisfied: cffi>=1.0.0 in c:\\users\\amaan\\anaconda3\\lib\\site-packages (from argon2-cffi->notebook>=4.0->jupyter_contrib_nbextensions) (1.14.3)\n",
      "Requirement already satisfied: parso<0.8.0,>=0.7.0 in c:\\users\\amaan\\anaconda3\\lib\\site-packages (from jedi>=0.10->ipython->jupyter-latex-envs>=1.3.8->jupyter_contrib_nbextensions) (0.7.0)\n",
      "Requirement already satisfied: wcwidth in c:\\users\\amaan\\anaconda3\\lib\\site-packages (from prompt-toolkit!=3.0.0,!=3.0.1,<3.1.0,>=2.0.0->ipython->jupyter-latex-envs>=1.3.8->jupyter_contrib_nbextensions) (0.2.5)\n",
      "Requirement already satisfied: pyrsistent>=0.14.0 in c:\\users\\amaan\\anaconda3\\lib\\site-packages (from jsonschema!=2.5.0,>=2.4->nbformat>=4.4->nbconvert>=4.2->jupyter_contrib_nbextensions) (0.17.3)\n",
      "Requirement already satisfied: attrs>=17.4.0 in c:\\users\\amaan\\anaconda3\\lib\\site-packages (from jsonschema!=2.5.0,>=2.4->nbformat>=4.4->nbconvert>=4.2->jupyter_contrib_nbextensions) (20.3.0)\n",
      "Requirement already satisfied: pyparsing>=2.0.2 in c:\\users\\amaan\\anaconda3\\lib\\site-packages (from packaging->bleach->nbconvert>=4.2->jupyter_contrib_nbextensions) (2.4.7)\n",
      "Requirement already satisfied: pycparser in c:\\users\\amaan\\anaconda3\\lib\\site-packages (from cffi>=1.0.0->argon2-cffi->notebook>=4.0->jupyter_contrib_nbextensions) (2.20)\n",
      "Building wheels for collected packages: jupyter-latex-envs, jupyter-nbextensions-configurator\n",
      "  Building wheel for jupyter-latex-envs (setup.py): started\n",
      "  Building wheel for jupyter-latex-envs (setup.py): finished with status 'done'\n",
      "  Created wheel for jupyter-latex-envs: filename=jupyter_latex_envs-1.4.6-py2.py3-none-any.whl size=963398 sha256=c64e120a158121a47e9063735d34926b1eea5e2823483497569982ef929ca1bd\n",
      "  Stored in directory: c:\\users\\amaan\\appdata\\local\\pip\\cache\\wheels\\4d\\ba\\f4\\b8c0941055519ebc0f27e85bfe2bb223f1a59a3b8bfc5c7515\n",
      "  Building wheel for jupyter-nbextensions-configurator (setup.py): started\n",
      "  Building wheel for jupyter-nbextensions-configurator (setup.py): finished with status 'done'\n",
      "  Created wheel for jupyter-nbextensions-configurator: filename=jupyter_nbextensions_configurator-0.4.1-py2.py3-none-any.whl size=465828 sha256=862ed3d9ab20e230e28a504dd152535d473cecce02c6605b3dfc7305bd2db7ba\n",
      "  Stored in directory: c:\\users\\amaan\\appdata\\local\\pip\\cache\\wheels\\e3\\3a\\b3\\a709b437602c3807f079f0c35ccba3e1adf9af6f2e6b0ebfea\n",
      "Successfully built jupyter-latex-envs jupyter-nbextensions-configurator\n",
      "Installing collected packages: jupyter-latex-envs, jupyter-contrib-core, jupyter-nbextensions-configurator, jupyter-highlight-selected-word, jupyter-contrib-nbextensions\n",
      "Successfully installed jupyter-contrib-core-0.3.3 jupyter-contrib-nbextensions-0.5.1 jupyter-highlight-selected-word-0.2.0 jupyter-latex-envs-1.4.6 jupyter-nbextensions-configurator-0.4.1\n"
     ]
    },
    {
     "name": "stdout",
     "output_type": "stream",
     "text": [
      "Note: you may need to restart the kernel to use updated packages.\n"
     ]
    }
   ],
   "source": [
    "pip install jupyter_contrib_nbextensions"
   ]
  },
  {
   "cell_type": "code",
   "execution_count": 1,
   "metadata": {},
   "outputs": [
    {
     "ename": "SyntaxError",
     "evalue": "invalid syntax (<ipython-input-1-063d2ad12fea>, line 1)",
     "output_type": "error",
     "traceback": [
      "\u001b[1;36m  File \u001b[1;32m\"<ipython-input-1-063d2ad12fea>\"\u001b[1;36m, line \u001b[1;32m1\u001b[0m\n\u001b[1;33m    jupyter contrib nbextension install\u001b[0m\n\u001b[1;37m            ^\u001b[0m\n\u001b[1;31mSyntaxError\u001b[0m\u001b[1;31m:\u001b[0m invalid syntax\n"
     ]
    }
   ],
   "source": [
    "jupyter contrib nbextension install"
   ]
  },
  {
   "cell_type": "code",
   "execution_count": null,
   "metadata": {},
   "outputs": [],
   "source": []
  }
 ],
 "metadata": {
  "kernelspec": {
   "display_name": "Python 3",
   "language": "python",
   "name": "python3"
  },
  "language_info": {
   "codemirror_mode": {
    "name": "ipython",
    "version": 3
   },
   "file_extension": ".py",
   "mimetype": "text/x-python",
   "name": "python",
   "nbconvert_exporter": "python",
   "pygments_lexer": "ipython3",
   "version": "3.8.5"
  }
 },
 "nbformat": 4,
 "nbformat_minor": 4
}
