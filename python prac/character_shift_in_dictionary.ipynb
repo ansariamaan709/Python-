{
 "cells": [
  {
   "cell_type": "code",
   "execution_count": 3,
   "metadata": {},
   "outputs": [
    {
     "name": "stdout",
     "output_type": "stream",
     "text": [
      "abcd:1234,bcdgfhf:127836\n",
      "cdab cdgfhfb "
     ]
    }
   ],
   "source": [
    "dictionary=input().split(',')\n",
    "for i in dictionary:\n",
    "    temp=i.split(':')\n",
    "    name=temp[0]\n",
    "    number=temp[1]\n",
    "    length=len(name)\n",
    "    sum=0\n",
    "    for j in number:\n",
    "        sum+=(int(j)**2)\n",
    "    if sum%2==0:\n",
    "        s=name[length-2:length]\n",
    "        print(s+name[0:length-2],end=' ')\n",
    "    else:\n",
    "        s=name[0]\n",
    "        print(name[1:length]+s,end=' ')\n"
   ]
  },
  {
   "cell_type": "code",
   "execution_count": 28,
   "metadata": {},
   "outputs": [
    {
     "name": "stdout",
     "output_type": "stream",
     "text": [
      "{'a', 'c', 'b', 'A'}\n",
      "a\n",
      "ab\n",
      "abA\n",
      "abAc\n",
      "abAca\n"
     ]
    }
   ],
   "source": [
    "string='abAca'\n",
    "s=set(string)\n",
    "print(s)\n",
    "unique=''\n",
    "for i in s:\n",
    "    if i in string:\n",
    "        unique+=i\n",
    "        print(unique)\n",
    "        "
   ]
  },
  {
   "cell_type": "code",
   "execution_count": 5,
   "metadata": {},
   "outputs": [
    {
     "name": "stdout",
     "output_type": "stream",
     "text": [
      "abcd:1234,bcdgfhf:127836\n",
      "['abcd', '1234']\n",
      "['bcdgfhf', '127836']\n"
     ]
    }
   ],
   "source": [
    "dictionary=input().split(',')\n",
    "for i in dictionary:\n",
    "    temp=i.split(':')\n",
    "    print(temp)"
   ]
  },
  {
   "cell_type": "code",
   "execution_count": null,
   "metadata": {},
   "outputs": [],
   "source": []
  }
 ],
 "metadata": {
  "kernelspec": {
   "display_name": "Python 3",
   "language": "python",
   "name": "python3"
  },
  "language_info": {
   "codemirror_mode": {
    "name": "ipython",
    "version": 3
   },
   "file_extension": ".py",
   "mimetype": "text/x-python",
   "name": "python",
   "nbconvert_exporter": "python",
   "pygments_lexer": "ipython3",
   "version": "3.8.5"
  }
 },
 "nbformat": 4,
 "nbformat_minor": 4
}
