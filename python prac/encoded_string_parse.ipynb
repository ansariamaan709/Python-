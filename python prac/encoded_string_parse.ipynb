{
 "cells": [
  {
   "cell_type": "code",
   "execution_count": 6,
   "metadata": {},
   "outputs": [
    {
     "name": "stdout",
     "output_type": "stream",
     "text": [
      "0012\n"
     ]
    }
   ],
   "source": [
    "l=\"001200\"\n",
    "d={}\n",
    "l=l.rstrip(\"0\")\n",
    "print(l)\n",
    "\n"
   ]
  },
  {
   "cell_type": "code",
   "execution_count": 7,
   "metadata": {},
   "outputs": [
    {
     "data": {
      "text/plain": [
       "{'first_name': 'John', 'last_name': 'Doe', 'id': '123'}"
      ]
     },
     "execution_count": 7,
     "metadata": {},
     "output_type": "execute_result"
    }
   ],
   "source": [
    "def parse_code(txt):\n",
    "\tf_name, l_name, ID = filter(None,txt.split('0'))\n",
    "\treturn {'first_name':f_name, 'last_name':l_name, 'id':ID}\n",
    "parse_code(\"John00Doe00123\")"
   ]
  },
  {
   "cell_type": "code",
   "execution_count": 17,
   "metadata": {},
   "outputs": [
    {
     "name": "stdout",
     "output_type": "stream",
     "text": [
      "['John', '', 'Doe', '', '123']\n",
      "['John', 'Doe', '123']\n"
     ]
    },
    {
     "data": {
      "text/plain": [
       "{'first_name': 'John', 'last_name': 'Doe', 'id': '123'}"
      ]
     },
     "execution_count": 17,
     "metadata": {},
     "output_type": "execute_result"
    }
   ],
   "source": [
    "def parse_code(txt):\n",
    "    lst = txt.split(\"0\")\n",
    "    print(lst)\n",
    "    lst = [v for v in lst if v != \"\"]\n",
    "    print(lst)\n",
    "    return {\"first_name\" : lst[0],\n",
    "            \"last_name\" : lst[1],\n",
    "            \"id\" : lst[2]}\n",
    "parse_code(\"John00Doe00123\")"
   ]
  },
  {
   "cell_type": "code",
   "execution_count": 26,
   "metadata": {},
   "outputs": [
    {
     "name": "stdout",
     "output_type": "stream",
     "text": [
      "['John', '', 'Doe', '', '123']\n",
      "['John', 'Doe', '123']\n",
      "{'first': 'John'}\n"
     ]
    }
   ],
   "source": [
    "str1=\"John00Doe00123\"\n",
    "l=str1.split(\"0\")\n",
    "print(l)\n",
    "for i in l:\n",
    "    if i=='':\n",
    "        x=l.remove(i)\n",
    "        \n",
    "print(l)\n",
    "d={\"first\":l[0]}\n",
    "print(d)"
   ]
  },
  {
   "cell_type": "code",
   "execution_count": null,
   "metadata": {},
   "outputs": [],
   "source": []
  }
 ],
 "metadata": {
  "kernelspec": {
   "display_name": "Python 3",
   "language": "python",
   "name": "python3"
  },
  "language_info": {
   "codemirror_mode": {
    "name": "ipython",
    "version": 3
   },
   "file_extension": ".py",
   "mimetype": "text/x-python",
   "name": "python",
   "nbconvert_exporter": "python",
   "pygments_lexer": "ipython3",
   "version": "3.8.5"
  }
 },
 "nbformat": 4,
 "nbformat_minor": 4
}
