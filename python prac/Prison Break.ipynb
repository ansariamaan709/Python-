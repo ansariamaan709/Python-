{
 "cells": [
  {
   "cell_type": "code",
   "execution_count": 25,
   "metadata": {},
   "outputs": [
    {
     "name": "stdout",
     "output_type": "stream",
     "text": [
      "2\n"
     ]
    }
   ],
   "source": [
    "l=[1, 0, 0, 0, 0, 0, 0]\n",
    "m=''\n",
    "count=0\n",
    "for i in l:\n",
    "    m+=''.join(str(i))\n",
    "the_string=m\n",
    "new_string=\"\"\n",
    "\n",
    "for j in range(len(the_string)):\n",
    "    #print(the_string)\n",
    "    \n",
    "    if the_string[j]=='1':\n",
    "        count+=1\n",
    "\n",
    "        for x in range(len(the_string)):\n",
    "            if the_string[x]=='0':\n",
    "                new_string+='1'\n",
    "                continue\n",
    "            if the_string[x]=='1':\n",
    "                new_string+='0'\n",
    "                continue\n",
    "        \n",
    "        the_string=new_string\n",
    "        new_string=''\n",
    "\n",
    "print(count)"
   ]
  },
  {
   "cell_type": "code",
   "execution_count": 6,
   "metadata": {},
   "outputs": [
    {
     "name": "stdout",
     "output_type": "stream",
     "text": [
      "12\n"
     ]
    }
   ],
   "source": []
  },
  {
   "cell_type": "code",
   "execution_count": null,
   "metadata": {},
   "outputs": [],
   "source": []
  }
 ],
 "metadata": {
  "kernelspec": {
   "display_name": "Python 3",
   "language": "python",
   "name": "python3"
  },
  "language_info": {
   "codemirror_mode": {
    "name": "ipython",
    "version": 3
   },
   "file_extension": ".py",
   "mimetype": "text/x-python",
   "name": "python",
   "nbconvert_exporter": "python",
   "pygments_lexer": "ipython3",
   "version": "3.8.5"
  }
 },
 "nbformat": 4,
 "nbformat_minor": 4
}
