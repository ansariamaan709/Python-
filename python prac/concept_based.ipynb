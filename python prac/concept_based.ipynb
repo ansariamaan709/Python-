{
 "cells": [
  {
   "cell_type": "code",
   "execution_count": 6,
   "metadata": {},
   "outputs": [
    {
     "name": "stdout",
     "output_type": "stream",
     "text": [
      "10\n",
      "2 5 3 6\n",
      "5\n"
     ]
    }
   ],
   "source": [
    "def noOfCoins(amount,no_of_coins,index):\n",
    "    if (amount==0):\n",
    "        return 1\n",
    "    if (index>len(no_of_coins)-1):\n",
    "        return 0 \n",
    "    \n",
    "    ways=0\n",
    "    value=0\n",
    "    while (value<=amount):\n",
    "        amount_rem=amount-value\n",
    "        ways=ways+noOfCoins(amount_rem,no_of_coins,index+1)\n",
    "        value=value+no_of_coins[index]\n",
    "    return ways\n",
    "amount=int(input())\n",
    "no_of_coins=[int(i) for i in input().split()]\n",
    "print(noOfCoins(amount,no_of_coins,0))\n"
   ]
  },
  {
   "cell_type": "code",
   "execution_count": 16,
   "metadata": {},
   "outputs": [
    {
     "name": "stdout",
     "output_type": "stream",
     "text": [
      "1 2 3 4 1 2 3 4 5\n",
      "[4, 5]\n"
     ]
    }
   ],
   "source": [
    "string=input().split()\n",
    "arr=[]\n",
    "d=0\n",
    "count=0\n",
    "\n",
    "while(d<=len(string)-2):\n",
    "    \n",
    "    diff = int(string[d+1])-int(string[d])\n",
    "    if diff==1:\n",
    "        count+=1\n",
    "    else:\n",
    "        if count>0:\n",
    "            count+=1\n",
    "            arr.append(count)\n",
    "        count=0\n",
    "    d+=1\n",
    "if count>0:\n",
    "    count+=1\n",
    "    arr.append(count)\n",
    "    \n",
    "if len(arr)==0:\n",
    "    print('-1')\n",
    "else:\n",
    "    print(arr)\n",
    "        \n",
    "        "
   ]
  },
  {
   "cell_type": "code",
   "execution_count": 28,
   "metadata": {},
   "outputs": [
    {
     "name": "stdout",
     "output_type": "stream",
     "text": [
      "66 67 6 7\n",
      "4\n"
     ]
    }
   ],
   "source": [
    "string=input().split()\n",
    "arr=[]\n",
    "d=0\n",
    "count=0\n",
    "\n",
    "while(d<=len(string)-2):\n",
    "    \n",
    "    \n",
    "    if (int(string[d])%2!=int(string[d+1])%2):\n",
    "        count+=1\n",
    "    else:\n",
    "        if count>0:\n",
    "            count+=1\n",
    "            arr.append(count)\n",
    "        count=0\n",
    "    d+=1\n",
    "if count>0:\n",
    "    count+=1\n",
    "    arr.append(count)\n",
    "    \n",
    "if len(arr)==0:\n",
    "    print('-1')\n",
    "else:\n",
    "    print(max(arr))"
   ]
  },
  {
   "cell_type": "code",
   "execution_count": null,
   "metadata": {},
   "outputs": [],
   "source": []
  }
 ],
 "metadata": {
  "kernelspec": {
   "display_name": "Python 3",
   "language": "python",
   "name": "python3"
  },
  "language_info": {
   "codemirror_mode": {
    "name": "ipython",
    "version": 3
   },
   "file_extension": ".py",
   "mimetype": "text/x-python",
   "name": "python",
   "nbconvert_exporter": "python",
   "pygments_lexer": "ipython3",
   "version": "3.8.5"
  }
 },
 "nbformat": 4,
 "nbformat_minor": 4
}
