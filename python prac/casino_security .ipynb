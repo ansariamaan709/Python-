{
 "cells": [
  {
   "cell_type": "code",
   "execution_count": 2,
   "metadata": {},
   "outputs": [
    {
     "data": {
      "text/plain": [
       "'Safe'"
      ]
     },
     "execution_count": 2,
     "metadata": {},
     "output_type": "execute_result"
    }
   ],
   "source": [
    "def security(s):\n",
    "    return \"ALARM!\" if any([a in s.replace('x', '') for a in [\"T$\", \"$T\"]])else \"Safe\"\n",
    "security(\"xxTxxG$xxxx$xGTxxx\")"
   ]
  },
  {
   "cell_type": "code",
   "execution_count": 3,
   "metadata": {},
   "outputs": [
    {
     "data": {
      "text/plain": [
       "'\\nYou\\'re head of security at a casino that has money being stolen from it. You get the data in the form of strings and you have to set off an alarm if a thief is detected.\\n\\nIf there is no guard between thief and money, return \"ALARM!\"\\nIf the money is protected, return \"Safe\"\\nString Components\\nx - Empty Space\\nT - Thief\\nG - Guard\\n$ - Money\\nExamples\\nsecurity(\"xxxxTTxGxx$xxTxxx\") ➞ \"ALARM!\"\\n\\nsecurity(\"xxTxxG$xxxx$xxxx\") ➞ \"Safe\"\\n\\nsecurity(\"TTxxxx$xxGxx$Gxxx\") ➞ \"ALARM!\"\\n'"
      ]
     },
     "execution_count": 3,
     "metadata": {},
     "output_type": "execute_result"
    }
   ],
   "source": [
    "\"\"\"\n",
    "You're head of security at a casino that has money being stolen from it. You get the data in the form of strings and you have to set off an alarm if a thief is detected.\n",
    "\n",
    "If there is no guard between thief and money, return \"ALARM!\"\n",
    "If the money is protected, return \"Safe\"\n",
    "String Components\n",
    "x - Empty Space\n",
    "T - Thief\n",
    "G - Guard\n",
    "$ - Money\n",
    "Examples\n",
    "security(\"xxxxTTxGxx$xxTxxx\") ➞ \"ALARM!\"\n",
    "\n",
    "security(\"xxTxxG$xxxx$xxxx\") ➞ \"Safe\"\n",
    "\n",
    "security(\"TTxxxx$xxGxx$Gxxx\") ➞ \"ALARM!\"\n",
    "\"\"\""
   ]
  },
  {
   "cell_type": "code",
   "execution_count": null,
   "metadata": {},
   "outputs": [],
   "source": [
    "def security(txt):\n",
    "\tfor i in range(len(txt)):\n",
    "\t\tif txt[i]=='T':\n",
    "\t\t\tfor j in range(len(txt)):\n",
    "\t\t\t\tif txt[j]=='$' and 'G' not in txt[i:j] and 'G' not in txt[j:i]: return 'ALARM!'\n",
    "\treturn 'Safe'"
   ]
  }
 ],
 "metadata": {
  "kernelspec": {
   "display_name": "Python 3",
   "language": "python",
   "name": "python3"
  },
  "language_info": {
   "codemirror_mode": {
    "name": "ipython",
    "version": 3
   },
   "file_extension": ".py",
   "mimetype": "text/x-python",
   "name": "python",
   "nbconvert_exporter": "python",
   "pygments_lexer": "ipython3",
   "version": "3.8.5"
  }
 },
 "nbformat": 4,
 "nbformat_minor": 4
}
