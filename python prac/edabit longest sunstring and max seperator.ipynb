{
 "cells": [
  {
   "cell_type": "code",
   "execution_count": null,
   "metadata": {},
   "outputs": [],
   "source": [
    "def max_separator(txt):\n",
    "\tnew=[]\n",
    "\tfor al in txt:\n",
    "\t\tif txt.count(al)==2:\n",
    "\t\t\tfirst=txt.index(al)\n",
    "\t\t\tsecond=txt.index(al,first+1)\n",
    "\t\t\tnew.append(txt[(first):(second+1)])\n",
    "\t\telif txt.count(al)>=3:     \n",
    "\t\t\tfirst=txt.index(al)\n",
    "\t\t\tsecond=txt.index(al,first+1)\n",
    "\t\t\tthird=txt.index(al,second+1)\n",
    "\t\t\tnew.append(txt[(first):(second+1)])\n",
    "\t\t\tnew.append(txt[(second):(third+1)])\n",
    "\tif new==[]:\n",
    "\t\treturn([])\n",
    "\telse:\n",
    "\t\tmaxx=max([len(l) for l in new])\n",
    "\t\treturn(sorted(list(set(sub[0] for sub in new if len(sub)==maxx))))"
   ]
  },
  {
   "cell_type": "code",
   "execution_count": null,
   "metadata": {},
   "outputs": [],
   "source": [
    "def longest_substring(digits):\n",
    "\tmax_len = 0\n",
    "\tans = ''\n",
    "\tfor i in range(len(digits)):\n",
    "\t\ttemp = digits[i]\n",
    "\t\tfor x in range(i+1, len(digits)):\n",
    "\t\t\tif (int(digits[x])-int(digits[x-1])==1):\n",
    "\t\t\t\ttemp += digits[x]\n",
    "\t\t\telse:\n",
    "\t\t\t\tbreak\n",
    "\t\tif len(temp) > max_len:\n",
    "\t\t\tmax_len = len(temp)\n",
    "\t\t\tans = temp\n",
    "\treturn ans\n",
    "longest_substring()"
   ]
  }
 ],
 "metadata": {
  "kernelspec": {
   "display_name": "Python 3",
   "language": "python",
   "name": "python3"
  },
  "language_info": {
   "codemirror_mode": {
    "name": "ipython",
    "version": 3
   },
   "file_extension": ".py",
   "mimetype": "text/x-python",
   "name": "python",
   "nbconvert_exporter": "python",
   "pygments_lexer": "ipython3",
   "version": "3.8.5"
  }
 },
 "nbformat": 4,
 "nbformat_minor": 4
}
