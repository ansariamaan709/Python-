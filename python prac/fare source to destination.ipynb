{
 "cells": [
  {
   "cell_type": "code",
   "execution_count": 1,
   "metadata": {},
   "outputs": [
    {
     "name": "stdout",
     "output_type": "stream",
     "text": [
      "TH\n",
      "LU\n",
      "29.0\n"
     ]
    }
   ],
   "source": [
    "import math\n",
    "def getFare(source,destination):\n",
    "    route=[ [ \"TH\", \"GA\", \"IC\", \"HA\", \"TE\", \"LU\", \"NI\", \"CA\"],\n",
    "    [800,600,750,900,1400,1200,1100,1500]\n",
    "        ]\n",
    "    fare = 0.0\n",
    "    if not (source in route[0] and destination in route[0]):\n",
    "        print(\"Invalid Input\")\n",
    "        exit()\n",
    "    if route[0].index(source) < route[0].index(destination):\n",
    "        for i in range(route[0].index(source),route[0].index(destination)+1):\n",
    "            fare+=route[1][i]\n",
    "    elif route[0].index(destination) < route[0].index(source):\n",
    "        for i in range(route[0].index(source)+1,len(route[0])):\n",
    "            fare+=route[1][i]\n",
    "        for i in range(0,route[0].index(destination)+1):\n",
    "            fare+=route[1][i]\n",
    "    return float(math.ceil(fare*0.005))\n",
    "   \n",
    "source = input()\n",
    "destination = input()\n",
    "fare = getFare(source,destination)\n",
    "if fare == 0:\n",
    "    print(\"Invalid Input\")\n",
    "else:\n",
    "    print(fare)"
   ]
  },
  {
   "cell_type": "code",
   "execution_count": 2,
   "metadata": {},
   "outputs": [
    {
     "name": "stdout",
     "output_type": "stream",
     "text": [
      "[1, 2, 3]\n"
     ]
    }
   ],
   "source": [
    "l=[[1,2,3],['a','b','c']]\n",
    "print(l[0])"
   ]
  },
  {
   "cell_type": "code",
   "execution_count": 6,
   "metadata": {},
   "outputs": [
    {
     "name": "stdout",
     "output_type": "stream",
     "text": [
      "0\n"
     ]
    }
   ],
   "source": [
    "print(l[0].index(1))"
   ]
  },
  {
   "cell_type": "code",
   "execution_count": 12,
   "metadata": {},
   "outputs": [
    {
     "name": "stdout",
     "output_type": "stream",
     "text": [
      "a\n",
      "1\n",
      "b\n",
      "2\n",
      "['a', 'b']\n",
      "[1, 2]\n",
      "[['a', 'b'], [1, 2]]\n"
     ]
    }
   ],
   "source": [
    "l=[]\n",
    "l1=[]\n",
    "l2=[]\n",
    "for i in range(2):\n",
    "    s=str(input())\n",
    "    l1.append(s)\n",
    "    r=int(input())\n",
    "    l2.append(r)\n",
    "print(l1)\n",
    "print(l2)\n",
    "l.append(l1)\n",
    "l.append(l2)\n",
    "print(l)\n",
    "\n"
   ]
  },
  {
   "cell_type": "code",
   "execution_count": 13,
   "metadata": {},
   "outputs": [
    {
     "data": {
      "text/plain": [
       "['a', 'b']"
      ]
     },
     "execution_count": 13,
     "metadata": {},
     "output_type": "execute_result"
    }
   ],
   "source": [
    "l[0]"
   ]
  },
  {
   "cell_type": "code",
   "execution_count": null,
   "metadata": {},
   "outputs": [],
   "source": []
  }
 ],
 "metadata": {
  "kernelspec": {
   "display_name": "Python 3",
   "language": "python",
   "name": "python3"
  },
  "language_info": {
   "codemirror_mode": {
    "name": "ipython",
    "version": 3
   },
   "file_extension": ".py",
   "mimetype": "text/x-python",
   "name": "python",
   "nbconvert_exporter": "python",
   "pygments_lexer": "ipython3",
   "version": "3.8.5"
  }
 },
 "nbformat": 4,
 "nbformat_minor": 4
}
