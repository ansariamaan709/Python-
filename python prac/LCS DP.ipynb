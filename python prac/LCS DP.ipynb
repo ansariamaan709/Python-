{
 "cells": [
  {
   "cell_type": "code",
   "execution_count": 4,
   "metadata": {},
   "outputs": [
    {
     "name": "stdout",
     "output_type": "stream",
     "text": [
      "Length of Longest Common Substring is 10\n"
     ]
    }
   ],
   "source": [
    "def LCSubStr(X, Y, m, n):\n",
    " \n",
    "    # Create a table to store lengths of\n",
    "    # longest common suffixes of substrings.\n",
    "    # Note that LCSuff[i][j] contains the\n",
    "    # length of longest common suffix of\n",
    "    # X[0...i-1] and Y[0...j-1]. The first\n",
    "    # row and first column entries have no\n",
    "    # logical meaning, they are used only\n",
    "    # for simplicity of the program.\n",
    " \n",
    "    # LCSuff is the table with zero\n",
    "    # value initially in each cell\n",
    "    LCSuff = [[0 for k in range(n+1)] for l in range(m+1)]\n",
    " \n",
    "    # To store the length of\n",
    "    # longest common substring\n",
    "    result = 0\n",
    " \n",
    "    # Following steps to build\n",
    "    # LCSuff[m+1][n+1] in bottom up fashion\n",
    "    for i in range(m + 1):\n",
    "        for j in range(n + 1):\n",
    "            if (i == 0 or j == 0):\n",
    "                LCSuff[i][j] = 0\n",
    "            elif (X[i-1] == Y[j-1]):\n",
    "                LCSuff[i][j] = LCSuff[i-1][j-1] + 1\n",
    "                result = max(result, LCSuff[i][j])\n",
    "            else:\n",
    "                LCSuff[i][j] = 0\n",
    "    return result\n",
    " \n",
    " \n",
    "# Driver Code\n",
    "X = 'OldSite:GeeksforGeeks.org'\n",
    "Y = 'NewSite:GeeksQuiz.com'\n",
    " \n",
    "m = len(X)\n",
    "n = len(Y)\n",
    " \n",
    "print('Length of Longest Common Substring is',\n",
    "      LCSubStr(X, Y, m, n))"
   ]
  },
  {
   "cell_type": "code",
   "execution_count": 3,
   "metadata": {},
   "outputs": [
    {
     "name": "stdout",
     "output_type": "stream",
     "text": [
      "[[0, 0, 0, 0, 0, 0, 0, 0], [0, 0, 0, 0, 0, 0, 0, 0], [0, 0, 0, 0, 0, 0, 0, 0], [0, 0, 0, 0, 0, 0, 0, 0], [0, 0, 0, 0, 0, 0, 0, 0], [0, 0, 0, 0, 0, 0, 0, 0], [0, 0, 0, 0, 0, 0, 0, 0], [0, 0, 0, 0, 0, 0, 0, 0]]\n"
     ]
    }
   ],
   "source": [
    "LCSuff = [[0 for k in range(7+1)] for l in range(7+1)]\n",
    "print(LCSuff)"
   ]
  },
  {
   "cell_type": "code",
   "execution_count": null,
   "metadata": {},
   "outputs": [],
   "source": []
  }
 ],
 "metadata": {
  "kernelspec": {
   "display_name": "Python 3",
   "language": "python",
   "name": "python3"
  },
  "language_info": {
   "codemirror_mode": {
    "name": "ipython",
    "version": 3
   },
   "file_extension": ".py",
   "mimetype": "text/x-python",
   "name": "python",
   "nbconvert_exporter": "python",
   "pygments_lexer": "ipython3",
   "version": "3.8.5"
  }
 },
 "nbformat": 4,
 "nbformat_minor": 4
}
