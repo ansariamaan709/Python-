{
 "cells": [
  {
   "cell_type": "code",
   "execution_count": 3,
   "metadata": {},
   "outputs": [
    {
     "name": "stdout",
     "output_type": "stream",
     "text": [
      "amaan84112\n",
      "8412\n"
     ]
    }
   ],
   "source": [
    "import re\n",
    "string=input()\n",
    "digit=list(set(re.findall(\"\\d\",string)))\n",
    "digit.sort()\n",
    "digit.reverse()\n",
    "num=int(''.join(digit))\n",
    "if num%2==0:\n",
    "    print(num)\n",
    "else:\n",
    "    length=len(digit)\n",
    "    for i in range(length-1,0,-1):\n",
    "        if (int(digit[i])%2==0):\n",
    "            \n",
    "            d=digit[i]\n",
    "            digit.remove(d)\n",
    "            digit.insert(length-1,d)\n",
    "            even_num=int(''.join(digit))\n",
    "            print(even_num)\n",
    "            break   \n",
    "    else:\n",
    "        print('-1')"
   ]
  },
  {
   "cell_type": "code",
   "execution_count": null,
   "metadata": {},
   "outputs": [],
   "source": []
  }
 ],
 "metadata": {
  "kernelspec": {
   "display_name": "Python 3",
   "language": "python",
   "name": "python3"
  },
  "language_info": {
   "codemirror_mode": {
    "name": "ipython",
    "version": 3
   },
   "file_extension": ".py",
   "mimetype": "text/x-python",
   "name": "python",
   "nbconvert_exporter": "python",
   "pygments_lexer": "ipython3",
   "version": "3.8.5"
  }
 },
 "nbformat": 4,
 "nbformat_minor": 4
}
