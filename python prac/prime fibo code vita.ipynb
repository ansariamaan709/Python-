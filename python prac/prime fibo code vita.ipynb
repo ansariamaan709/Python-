{
 "cells": [
  {
   "cell_type": "code",
   "execution_count": 20,
   "metadata": {},
   "outputs": [
    {
     "name": "stdout",
     "output_type": "stream",
     "text": [
      "['23', '25', '27', '211', '213', '217', '219', '223', '229', '231', '237', '32', '35', '37', '311', '313', '317', '319', '323', '329', '331', '337', '52', '53', '57', '511', '513', '517', '519', '523', '529', '531', '537', '72', '73', '75', '711', '713', '717', '719', '723', '729', '731', '737', '112', '113', '115', '117', '1113', '1117', '1119', '1123', '1129', '1131', '1137', '132', '133', '135', '137', '1311', '1317', '1319', '1323', '1329', '1331', '1337', '172', '173', '175', '177', '1711', '1713', '1719', '1723', '1729', '1731', '1737', '192', '193', '195', '197', '1911', '1913', '1917', '1923', '1929', '1931', '1937', '232', '233', '235', '237', '2311', '2313', '2317', '2319', '2329', '2331', '2337', '292', '293', '295', '297', '2911', '2913', '2917', '2919', '2923', '2931', '2937', '312', '313', '315', '317', '3111', '3113', '3117', '3119', '3123', '3129', '3137', '372', '373', '375', '377', '3711', '3713', '3717', '3719', '3723', '3729', '3731']\n",
      "[23, 211, 223, 229, 37, 311, 313, 317, 331, 337, 53, 523, 73, 719, 113, 1117, 1123, 1129, 137, 1319, 173, 1723, 193, 197, 1913, 1931, 233, 2311, 293, 2917, 313, 317, 3119, 3137, 373, 3719]\n",
      "34448108736"
     ]
    }
   ],
   "source": [
    "def Prime(num):\n",
    "    if num > 1:\n",
    "        \n",
    " \n",
    "        for i in range(2, int(num/2)+1):\n",
    " \n",
    "            if (num % i) == 0:\n",
    "                break\n",
    "        else:\n",
    "            return num\n",
    " \n",
    "\n",
    "\n",
    "\n",
    "\n",
    "\n",
    "\n",
    "\n",
    "\n",
    "l=[2,3,5,7,11,13,17,19,23,29,31,37]\n",
    "l1=[]\n",
    "l2=[]\n",
    "for i in range(len(l)):\n",
    "    for j in range(len(l)):\n",
    "        if(l[i]!=l[j]):\n",
    "            l1.append(str(l[i])+str(l[j]))\n",
    "print(l1)\n",
    "for i in l1:\n",
    "    if int(i) == Prime(int(i)):\n",
    "        l2.append(int(i))\n",
    "print(l2)\n",
    "num1=min(l2)\n",
    "num2=max(l2)\n",
    "\n",
    "for i in range(len(l2)-2):\n",
    "    sum=num1+num2\n",
    "    num1=num2\n",
    "    num2=sum\n",
    "print(sum,end=\"\")\n",
    "\n",
    "        \n",
    "        \n",
    "        "
   ]
  },
  {
   "cell_type": "code",
   "execution_count": 29,
   "metadata": {},
   "outputs": [
    {
     "name": "stdout",
     "output_type": "stream",
     "text": [
      "2 40\n",
      "34\n",
      "13158006689"
     ]
    }
   ],
   "source": [
    "def prime(n):\n",
    " flag = 0\n",
    " for i in range(2,int(n**0.5)+1):\n",
    "  if n%i==0:\n",
    "   flag = 1\n",
    "   break\n",
    " return flag\n",
    "\n",
    "n,m =input().split()\n",
    "n=int(n)\n",
    "m=int(m)\n",
    "Prime1=[]\n",
    "\n",
    "for i in range(n,m+1):\n",
    " if prime(i)==0:\n",
    "  Prime1.append(i)\n",
    "\n",
    "\n",
    "Prime2=[]\n",
    "\n",
    "for i in Prime1:\n",
    " for j in Prime1:\n",
    "  cross_prod = int(str(i)+str(j))\n",
    "  if prime(cross_prod)==0 and cross_prod not in Prime2:\n",
    "   Prime2.append(cross_prod)\n",
    "print(len(Prime2))\n",
    "\n",
    "num1=min(Prime2)\n",
    "num2=max(Prime2)\n",
    "\n",
    "for i in range(len(Prime2)-2):\n",
    " sum=num1+num2\n",
    " num1=num2\n",
    " num2=sum\n",
    "print(sum,end=\"\")\n",
    "\n",
    "\n",
    "        "
   ]
  },
  {
   "cell_type": "code",
   "execution_count": 22,
   "metadata": {},
   "outputs": [
    {
     "name": "stdout",
     "output_type": "stream",
     "text": [
      "[1]\n"
     ]
    }
   ],
   "source": [
    "l=[1,2,3]\n",
    "l2=[3,2]\n",
    "l3=[]\n",
    "for i in range(len(l)):\n",
    "    if l[i] not in l2:\n",
    "        l3.append(l[i])\n",
    "print(l3)"
   ]
  },
  {
   "cell_type": "code",
   "execution_count": null,
   "metadata": {},
   "outputs": [],
   "source": []
  }
 ],
 "metadata": {
  "kernelspec": {
   "display_name": "Python 3",
   "language": "python",
   "name": "python3"
  },
  "language_info": {
   "codemirror_mode": {
    "name": "ipython",
    "version": 3
   },
   "file_extension": ".py",
   "mimetype": "text/x-python",
   "name": "python",
   "nbconvert_exporter": "python",
   "pygments_lexer": "ipython3",
   "version": "3.8.5"
  }
 },
 "nbformat": 4,
 "nbformat_minor": 4
}
