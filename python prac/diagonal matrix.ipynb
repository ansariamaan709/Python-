{
 "cells": [
  {
   "cell_type": "code",
   "execution_count": 1,
   "metadata": {},
   "outputs": [
    {
     "data": {
      "text/plain": [
       "36"
      ]
     },
     "execution_count": 1,
     "metadata": {},
     "output_type": "execute_result"
    }
   ],
   "source": [
    "def diagonal_sum(mat,n):\n",
    "    primary=0\n",
    "    secondary=0\n",
    "    for i in range(n):\n",
    "        for j in range(n):\n",
    "            if i==j: #condition for primary diagonal \n",
    "                primary+=mat[i][j]\n",
    "            if (i+j)==(n-1): #condition for secondary diagonal\n",
    "                secondary+=mat[i][j]\n",
    "            sumOfDiagonal=abs(primary+secondary)\n",
    "    return sumOfDiagonal\n",
    "a = [[ 1, 2, 3, 4 ],\n",
    "     [ 5, 6, 7, 8 ], \n",
    "     [ 1, 2, 3, 4 ],\n",
    "      [ 5, 6, 7, 8 ]]\n",
    "\n",
    "diagonal_sum(a,4)                \n",
    "                "
   ]
  },
  {
   "cell_type": "code",
   "execution_count": null,
   "metadata": {},
   "outputs": [],
   "source": []
  }
 ],
 "metadata": {
  "kernelspec": {
   "display_name": "Python 3",
   "language": "python",
   "name": "python3"
  },
  "language_info": {
   "codemirror_mode": {
    "name": "ipython",
    "version": 3
   },
   "file_extension": ".py",
   "mimetype": "text/x-python",
   "name": "python",
   "nbconvert_exporter": "python",
   "pygments_lexer": "ipython3",
   "version": "3.8.5"
  }
 },
 "nbformat": 4,
 "nbformat_minor": 4
}
