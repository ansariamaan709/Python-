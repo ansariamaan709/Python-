{
 "cells": [
  {
   "cell_type": "code",
   "execution_count": 1,
   "metadata": {},
   "outputs": [
    {
     "name": "stdout",
     "output_type": "stream",
     "text": [
      "[5, 4, 3, 2, 1]\n",
      "[5, 2, 3, 4, 1]\n",
      "4\n"
     ]
    }
   ],
   "source": [
    "list1=[5,4,3,2,1]\n",
    "list2=[1,2,3,4,5]\n",
    "list2[0],list2[-1]=list2[-1],list2[0]\n",
    "l=[]\n",
    "print(list1)\n",
    "print(list2)\n",
    "for i in range(len(list1)):\n",
    "    x=abs(list1[i]-list2[i])\n",
    "    l.append(x)\n",
    "print(sum(l))\n",
    "    \n",
    "    \n"
   ]
  },
  {
   "cell_type": "code",
   "execution_count": 72,
   "metadata": {},
   "outputs": [
    {
     "name": "stdout",
     "output_type": "stream",
     "text": [
      "aeiouaeiou\n"
     ]
    }
   ],
   "source": [
    "def isVowel(txt):\n",
    "    l='aeiou'\n",
    "    if txt in l:\n",
    "        return txt\n",
    "string='aeiouabcdaeiouaeiou'\n",
    "longest_vowel=''\n",
    "\n",
    "for i in range(0,len(string)):\n",
    "    if isVowel(string[i]):\n",
    "        longest_vowel+=string[i]\n",
    "        \n",
    "    else:\n",
    "        longest_vowel+='  '+string[i]+'  '\n",
    "        \n",
    "s=max(longest_vowel.split('  '),key=len)\n",
    "\n",
    "    \n",
    "if (len(s)==0):\n",
    "    print('-1')\n",
    "else:\n",
    "    print(s)"
   ]
  },
  {
   "cell_type": "code",
   "execution_count": 63,
   "metadata": {},
   "outputs": [
    {
     "name": "stdout",
     "output_type": "stream",
     "text": [
      "geeksskeeg\n"
     ]
    }
   ],
   "source": [
    "#amazon\n",
    "\n",
    "def isPalindrome(txt):\n",
    "    return txt==txt[::-1]\n",
    "\n",
    "\n",
    "l=[]\n",
    "for i in range(len(string)):\n",
    "    for j in range(len(string),0,-1):\n",
    "        string1=string[i:j]\n",
    "        if isPalindrome(string1):\n",
    "            l.append(string1)\n",
    "s=max(l,key=len)\n",
    "print(s)"
   ]
  },
  {
   "cell_type": "code",
   "execution_count": 12,
   "metadata": {
    "scrolled": true
   },
   "outputs": [
    {
     "name": "stdout",
     "output_type": "stream",
     "text": [
      "5463\n"
     ]
    }
   ],
   "source": [
    "#Microsoft\n",
    "def isPalindrome(txt):\n",
    "    if len(txt)%2==0:\n",
    "        \n",
    "        half=len(txt)//2\n",
    "        half1=sum([int(x) for x in txt[0:half]])\n",
    "        another_half=sum([int(x) for x in txt[half:len(txt)]])\n",
    "        if (half1==another_half):\n",
    "            return txt\n",
    "\n",
    "string='546374'\n",
    "l=[]\n",
    "for i in range(len(string)):\n",
    "    for j in range(len(string),i,-1):\n",
    "        string1=string[i:j]\n",
    "        #print(string1)\n",
    "        if isPalindrome(string1):\n",
    "            l.append(string1)\n",
    "s=max(l,key=len)\n",
    "print(s)"
   ]
  },
  {
   "cell_type": "code",
   "execution_count": 7,
   "metadata": {},
   "outputs": [
    {
     "name": "stdout",
     "output_type": "stream",
     "text": [
      "54\n",
      "5463\n",
      "546374\n",
      "46\n",
      "4637\n",
      "63\n",
      "6374\n",
      "37\n",
      "74\n"
     ]
    }
   ],
   "source": [
    "string='546374'\n",
    "l=[]\n",
    "for i in range(len(string)):\n",
    "    for j in range(2,len(string)-i+1,2):\n",
    "        string1=string[i:j+i]\n",
    "        print(string1)\n",
    "        "
   ]
  },
  {
   "cell_type": "code",
   "execution_count": null,
   "metadata": {},
   "outputs": [],
   "source": []
  }
 ],
 "metadata": {
  "kernelspec": {
   "display_name": "Python 3",
   "language": "python",
   "name": "python3"
  },
  "language_info": {
   "codemirror_mode": {
    "name": "ipython",
    "version": 3
   },
   "file_extension": ".py",
   "mimetype": "text/x-python",
   "name": "python",
   "nbconvert_exporter": "python",
   "pygments_lexer": "ipython3",
   "version": "3.8.5"
  }
 },
 "nbformat": 4,
 "nbformat_minor": 4
}
