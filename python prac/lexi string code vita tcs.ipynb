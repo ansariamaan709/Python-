{
 "cells": [
  {
   "cell_type": "code",
   "execution_count": 9,
   "metadata": {},
   "outputs": [
    {
     "name": "stdout",
     "output_type": "stream",
     "text": [
      "bdca\n"
     ]
    }
   ],
   "source": [
    "p='polikujmnhytgbvfredcxswqaz'\n",
    "s='abcd'\n",
    "r=''\n",
    "for i in p:\n",
    "    if i in s:\n",
    "        r+=i\n",
    "        s=s.replace(i,'')\n",
    "print(r)\n",
    "        "
   ]
  },
  {
   "cell_type": "code",
   "execution_count": 8,
   "metadata": {},
   "outputs": [
    {
     "name": "stdout",
     "output_type": "stream",
     "text": [
      "codevita\n"
     ]
    }
   ],
   "source": [
    "p='qwryupcsfoghjkldezvxbintma'\n",
    "s='ativedoc'\n",
    "r=''\n",
    "for i in p:\n",
    "    if i in s:\n",
    "        r+=i\n",
    "        s=s.replace(i,'')\n",
    "print(r)"
   ]
  },
  {
   "cell_type": "code",
   "execution_count": null,
   "metadata": {},
   "outputs": [],
   "source": []
  }
 ],
 "metadata": {
  "kernelspec": {
   "display_name": "Python 3",
   "language": "python",
   "name": "python3"
  },
  "language_info": {
   "codemirror_mode": {
    "name": "ipython",
    "version": 3
   },
   "file_extension": ".py",
   "mimetype": "text/x-python",
   "name": "python",
   "nbconvert_exporter": "python",
   "pygments_lexer": "ipython3",
   "version": "3.8.5"
  }
 },
 "nbformat": 4,
 "nbformat_minor": 4
}
