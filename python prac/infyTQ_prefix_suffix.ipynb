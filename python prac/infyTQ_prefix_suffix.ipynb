{
 "cells": [
  {
   "cell_type": "code",
   "execution_count": 3,
   "metadata": {},
   "outputs": [
    {
     "name": "stdout",
     "output_type": "stream",
     "text": [
      "ababa\n",
      "2\n",
      "1\n",
      "-----------------------\n"
     ]
    }
   ],
   "source": [
    "string=input()\n",
    "length=len(string)\n",
    "half=length//2\n",
    "print(half)\n",
    "for i in range(half,0,-1):\n",
    "    prefix=string[0:i]\n",
    "    suffix=string[length-i:length]\n",
    "    if(prefix==suffix):\n",
    "        print(len(prefix))\n",
    "        print('-----------------------')\n",
    "        break"
   ]
  },
  {
   "cell_type": "code",
   "execution_count": 2,
   "metadata": {},
   "outputs": [],
   "source": [
    "import re\n"
   ]
  },
  {
   "cell_type": "code",
   "execution_count": 5,
   "metadata": {},
   "outputs": [
    {
     "name": "stdout",
     "output_type": "stream",
     "text": [
      "amaan@84112\n",
      "['1', '2', '4', '8']\n"
     ]
    }
   ],
   "source": [
    "string=input()\n",
    "digit=list(set(re.findall(\"\\d\",string)))\n",
    "print(digit)"
   ]
  },
  {
   "cell_type": "code",
   "execution_count": null,
   "metadata": {},
   "outputs": [],
   "source": []
  }
 ],
 "metadata": {
  "kernelspec": {
   "display_name": "Python 3",
   "language": "python",
   "name": "python3"
  },
  "language_info": {
   "codemirror_mode": {
    "name": "ipython",
    "version": 3
   },
   "file_extension": ".py",
   "mimetype": "text/x-python",
   "name": "python",
   "nbconvert_exporter": "python",
   "pygments_lexer": "ipython3",
   "version": "3.8.5"
  }
 },
 "nbformat": 4,
 "nbformat_minor": 4
}
