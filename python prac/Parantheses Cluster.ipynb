{
 "cells": [
  {
   "cell_type": "code",
   "execution_count": 22,
   "metadata": {},
   "outputs": [
    {
     "name": "stdout",
     "output_type": "stream",
     "text": [
      "[]\n"
     ]
    }
   ],
   "source": [
    "string=\"\"\n",
    "score=0\n",
    "string1=''\n",
    "l=[]\n",
    "for i in range(len(string)):\n",
    "    \n",
    "        \n",
    "    if string[i]=='(':\n",
    "        score+=1\n",
    "        string1+=string[i]\n",
    "    else:\n",
    "        score-=1\n",
    "        string1+=string[i]\n",
    "        if score==0:\n",
    "            l.append(string1)\n",
    "            #print(string1)\n",
    "            string1=''\n",
    "print(l)\n",
    "#[\"((()))\", \"(())\", \"()\", \"()\", \"(()())\"\n",
    "#\"((())())\", \"(()(()()))\"\n",
    "#\"(()(()()))\", \"()\", \"(((()))()(()))\", \"(()((()))(())())\""
   ]
  },
  {
   "cell_type": "code",
   "execution_count": 9,
   "metadata": {},
   "outputs": [
    {
     "name": "stdout",
     "output_type": "stream",
     "text": [
      "()(\n"
     ]
    }
   ],
   "source": [
    "string=\"()()()\"\n",
    "print(string[0:3])"
   ]
  },
  {
   "cell_type": "code",
   "execution_count": null,
   "metadata": {},
   "outputs": [],
   "source": [
    "i=2\n",
    "j=2\n",
    "i=j"
   ]
  }
 ],
 "metadata": {
  "kernelspec": {
   "display_name": "Python 3",
   "language": "python",
   "name": "python3"
  },
  "language_info": {
   "codemirror_mode": {
    "name": "ipython",
    "version": 3
   },
   "file_extension": ".py",
   "mimetype": "text/x-python",
   "name": "python",
   "nbconvert_exporter": "python",
   "pygments_lexer": "ipython3",
   "version": "3.8.5"
  }
 },
 "nbformat": 4,
 "nbformat_minor": 4
}
