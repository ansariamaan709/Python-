{
 "cells": [
  {
   "cell_type": "code",
   "execution_count": 21,
   "metadata": {},
   "outputs": [
    {
     "name": "stdout",
     "output_type": "stream",
     "text": [
      "4\n"
     ]
    }
   ],
   "source": [
    "#HackWithInfy\n",
    "w=[2,1.01,2.5,1.99,1.5]\n",
    "w.sort()\n",
    "trips=0\n",
    "left_index=0\n",
    "for i in range(len(w)-1,-1,-1):\n",
    "    if(w[i]>1.99):\n",
    "        trips+=1\n",
    "    elif(w[i]<=1.99):\n",
    "        if(w[i]+w[left_index]<=3):\n",
    "            left_index+=1\n",
    "        trips+=1\n",
    "    if(left_index>=i):\n",
    "        break\n",
    "print(trips)\n",
    "        "
   ]
  },
  {
   "cell_type": "code",
   "execution_count": 25,
   "metadata": {},
   "outputs": [
    {
     "name": "stdout",
     "output_type": "stream",
     "text": [
      "2\n"
     ]
    }
   ],
   "source": [
    "l=[1.01,1.01,1.01]\n",
    "l.sort(reverse=True)\n",
    "left=0 #w\n",
    "value=0 #q\n",
    "count_taxi=0 #r\n",
    "length=len(l) #m\n",
    "while(left<=length-1):\n",
    "    value=l[left] #1.01\n",
    "    while(value<3 and length-1!=left):\n",
    "        value+=l[length-1] #3\n",
    "        if(value<=3):\n",
    "            length-=1\n",
    "    count_taxi+=1\n",
    "    left+=1\n",
    "print(count_taxi)\n",
    "        \n",
    "    \n"
   ]
  },
  {
   "cell_type": "code",
   "execution_count": 18,
   "metadata": {},
   "outputs": [
    {
     "name": "stdout",
     "output_type": "stream",
     "text": [
      "2\n"
     ]
    }
   ],
   "source": [
    "w=[1,1,1,1]\n",
    "w.sort()\n",
    "trips=0\n",
    "left_index=0\n",
    "for i in range(len(w)-1,-1,-1):\n",
    "    if(w[i]==4):\n",
    "        trips+=1\n",
    "    elif(w[i]<=3):\n",
    "        if(w[i]+w[left_index]<=4):\n",
    "            left_index+=1\n",
    "        trips+=1\n",
    "    if(left_index>=i):\n",
    "        break\n",
    "print(trips)"
   ]
  },
  {
   "cell_type": "code",
   "execution_count": null,
   "metadata": {},
   "outputs": [],
   "source": []
  }
 ],
 "metadata": {
  "kernelspec": {
   "display_name": "Python 3",
   "language": "python",
   "name": "python3"
  },
  "language_info": {
   "codemirror_mode": {
    "name": "ipython",
    "version": 3
   },
   "file_extension": ".py",
   "mimetype": "text/x-python",
   "name": "python",
   "nbconvert_exporter": "python",
   "pygments_lexer": "ipython3",
   "version": "3.8.5"
  }
 },
 "nbformat": 4,
 "nbformat_minor": 4
}
