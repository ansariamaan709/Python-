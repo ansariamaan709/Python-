{
 "cells": [
  {
   "cell_type": "code",
   "execution_count": 1,
   "metadata": {},
   "outputs": [
    {
     "data": {
      "text/plain": [
       "[[2, 2], [1, 1, 1], [3, 3]]"
      ]
     },
     "execution_count": 1,
     "metadata": {},
     "output_type": "execute_result"
    }
   ],
   "source": [
    "\"\"\"\n",
    "advanced_sort([2, 1, 2, 1]) ➞ [[2, 2], [1, 1]]\n",
    "\"\"\"\n",
    "\n",
    "\n",
    "def advanced_sort(lst):\n",
    "    l = []\n",
    "    l2 = []\n",
    "   # a = [[i]*lst.count(i) for i in lst]\n",
    "    #print(a)\n",
    "    \n",
    "    for i in lst:\n",
    "        if i not in l:\n",
    "            l.append(i)\n",
    "     #       print(l)\n",
    "    for i in l:\n",
    "        l2.append([i]*lst.count(i))\n",
    "        #print(lst.count(i))\n",
    "        #print(l2)\n",
    "    return l2\n",
    "advanced_sort([2, 1, 2, 1,1,3,3])"
   ]
  },
  {
   "cell_type": "code",
   "execution_count": 29,
   "metadata": {},
   "outputs": [
    {
     "name": "stdout",
     "output_type": "stream",
     "text": [
      "[[2, 2], [1, 1, 1], [2, 2], [1, 1, 1], [1, 1, 1]]\n",
      "0\n",
      "0\n",
      "0\n",
      "0\n",
      "0\n"
     ]
    },
    {
     "data": {
      "text/plain": [
       "[[2, 2], [1, 1, 1]]"
      ]
     },
     "execution_count": 29,
     "metadata": {},
     "output_type": "execute_result"
    }
   ],
   "source": [
    "def advanced_sort(lst):\n",
    "    a = [[i]*lst.count(i) for i in lst]\n",
    "    print(a)\n",
    "    \n",
    "    b = []\n",
    "    for i in a:\n",
    "        print(lst.count(i))\n",
    "        #print([i])\n",
    "        if i not in b:\n",
    "            b.append(i)\n",
    "    return b\n",
    "advanced_sort([2, 1, 2, 1,1])"
   ]
  },
  {
   "cell_type": "code",
   "execution_count": 31,
   "metadata": {},
   "outputs": [
    {
     "name": "stdout",
     "output_type": "stream",
     "text": [
      "[1, 1]\n",
      "[2]\n",
      "[1, 1]\n"
     ]
    }
   ],
   "source": [
    "l=[1,2,1]\n",
    "for i in l:\n",
    "    print([i]*l.count(i))\n",
    "    \n",
    "\n"
   ]
  },
  {
   "cell_type": "code",
   "execution_count": null,
   "metadata": {},
   "outputs": [],
   "source": []
  }
 ],
 "metadata": {
  "kernelspec": {
   "display_name": "Python 3",
   "language": "python",
   "name": "python3"
  },
  "language_info": {
   "codemirror_mode": {
    "name": "ipython",
    "version": 3
   },
   "file_extension": ".py",
   "mimetype": "text/x-python",
   "name": "python",
   "nbconvert_exporter": "python",
   "pygments_lexer": "ipython3",
   "version": "3.8.5"
  }
 },
 "nbformat": 4,
 "nbformat_minor": 4
}
